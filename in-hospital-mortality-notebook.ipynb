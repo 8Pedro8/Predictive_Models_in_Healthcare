{
 "metadata": {
  "language_info": {
   "codemirror_mode": {
    "name": "ipython",
    "version": 3
   },
   "file_extension": ".py",
   "mimetype": "text/x-python",
   "name": "python",
   "nbconvert_exporter": "python",
   "pygments_lexer": "ipython3",
   "version": "3.8.8"
  },
  "orig_nbformat": 4,
  "kernelspec": {
   "name": "python3",
   "display_name": "Python 3.8.8 64-bit ('base': conda)"
  },
  "interpreter": {
   "hash": "ca91aee8edd15b37e2ac91f1bb15239ffec5b3531be41daeb3cd5ccbcec938a2"
  }
 },
 "nbformat": 4,
 "nbformat_minor": 2,
 "cells": [
  {
   "cell_type": "code",
   "execution_count": 28,
   "metadata": {},
   "outputs": [],
   "source": [
    "import pandas as pd\n",
    "import numpy as np\n",
    "import matplotlib.pyplot as plt"
   ]
  },
  {
   "cell_type": "code",
   "execution_count": 29,
   "metadata": {},
   "outputs": [
    {
     "output_type": "stream",
     "name": "stderr",
     "text": [
      "C:\\Users\\nicod\\anaconda3\\lib\\site-packages\\IPython\\core\\interactiveshell.py:3165: DtypeWarning: Columns (3,4,5,6,7,11,12) have mixed types.Specify dtype option on import or set low_memory=False.\n  has_raised = await self.run_ast_nodes(code_ast.body, cell_name,\n"
     ]
    },
    {
     "output_type": "execute_result",
     "data": {
      "text/plain": [
       "   Unnamed: 0  subject_id   hadm_id            admittime deathtime  \\\n",
       "0           0  14679932.0  21038362  2139-09-26 14:16:00       NaN   \n",
       "1           1  15585972.0  24941086  2123-10-07 23:56:00       NaN   \n",
       "2           2  15078341.0  23272159  2122-08-28 08:48:00       NaN   \n",
       "3           3  17301855.0  29732723  2140-06-06 14:23:00       NaN   \n",
       "4           4  17991012.0  24298836  2181-07-10 20:28:00       NaN   \n",
       "\n",
       "  admission_type insurance               ethnicity       los  \\\n",
       "0       ELECTIVE     Other           OTHER/UNKNOWN  1.884722   \n",
       "1       ELECTIVE     Other                   WHITE  4.476389   \n",
       "2       ELECTIVE     Other  BLACK/AFRICAN AMERICAN  2.155556   \n",
       "3       ELECTIVE     Other                   WHITE  2.001389   \n",
       "4       ELECTIVE     Other                   WHITE  1.806250   \n",
       "\n",
       "   died_at_the_hospital  ...  muscular neoplasms nervous  pregnancy  prenatal  \\\n",
       "0                   0.0  ...       0.0       0.0     0.0        0.0       0.0   \n",
       "1                   0.0  ...       0.0       0.0     0.0        0.0       0.0   \n",
       "2                   0.0  ...       0.0       0.0     0.0        0.0       0.0   \n",
       "3                   0.0  ...       0.0       0.0     0.0        0.0       1.0   \n",
       "4                   0.0  ...       0.0       0.0     0.0        0.0       0.0   \n",
       "\n",
       "   respiratory  skin  Neuro Intermediate  \\\n",
       "0          0.0   0.0                 0.0   \n",
       "1          0.0   0.0                 0.0   \n",
       "2          0.0   0.0                 0.0   \n",
       "3          0.0   0.0                 0.0   \n",
       "4          0.0   0.0                 0.0   \n",
       "\n",
       "   Neuro Surgical Intensive Care Unit (Neuro SICU)  Other-ICU  \n",
       "0                                              0.0        0.0  \n",
       "1                                              0.0        0.0  \n",
       "2                                              0.0        0.0  \n",
       "3                                              0.0        0.0  \n",
       "4                                              0.0        0.0  \n",
       "\n",
       "[5 rows x 33 columns]"
      ],
      "text/html": "<div>\n<style scoped>\n    .dataframe tbody tr th:only-of-type {\n        vertical-align: middle;\n    }\n\n    .dataframe tbody tr th {\n        vertical-align: top;\n    }\n\n    .dataframe thead th {\n        text-align: right;\n    }\n</style>\n<table border=\"1\" class=\"dataframe\">\n  <thead>\n    <tr style=\"text-align: right;\">\n      <th></th>\n      <th>Unnamed: 0</th>\n      <th>subject_id</th>\n      <th>hadm_id</th>\n      <th>admittime</th>\n      <th>deathtime</th>\n      <th>admission_type</th>\n      <th>insurance</th>\n      <th>ethnicity</th>\n      <th>los</th>\n      <th>died_at_the_hospital</th>\n      <th>...</th>\n      <th>muscular</th>\n      <th>neoplasms</th>\n      <th>nervous</th>\n      <th>pregnancy</th>\n      <th>prenatal</th>\n      <th>respiratory</th>\n      <th>skin</th>\n      <th>Neuro Intermediate</th>\n      <th>Neuro Surgical Intensive Care Unit (Neuro SICU)</th>\n      <th>Other-ICU</th>\n    </tr>\n  </thead>\n  <tbody>\n    <tr>\n      <th>0</th>\n      <td>0</td>\n      <td>14679932.0</td>\n      <td>21038362</td>\n      <td>2139-09-26 14:16:00</td>\n      <td>NaN</td>\n      <td>ELECTIVE</td>\n      <td>Other</td>\n      <td>OTHER/UNKNOWN</td>\n      <td>1.884722</td>\n      <td>0.0</td>\n      <td>...</td>\n      <td>0.0</td>\n      <td>0.0</td>\n      <td>0.0</td>\n      <td>0.0</td>\n      <td>0.0</td>\n      <td>0.0</td>\n      <td>0.0</td>\n      <td>0.0</td>\n      <td>0.0</td>\n      <td>0.0</td>\n    </tr>\n    <tr>\n      <th>1</th>\n      <td>1</td>\n      <td>15585972.0</td>\n      <td>24941086</td>\n      <td>2123-10-07 23:56:00</td>\n      <td>NaN</td>\n      <td>ELECTIVE</td>\n      <td>Other</td>\n      <td>WHITE</td>\n      <td>4.476389</td>\n      <td>0.0</td>\n      <td>...</td>\n      <td>0.0</td>\n      <td>0.0</td>\n      <td>0.0</td>\n      <td>0.0</td>\n      <td>0.0</td>\n      <td>0.0</td>\n      <td>0.0</td>\n      <td>0.0</td>\n      <td>0.0</td>\n      <td>0.0</td>\n    </tr>\n    <tr>\n      <th>2</th>\n      <td>2</td>\n      <td>15078341.0</td>\n      <td>23272159</td>\n      <td>2122-08-28 08:48:00</td>\n      <td>NaN</td>\n      <td>ELECTIVE</td>\n      <td>Other</td>\n      <td>BLACK/AFRICAN AMERICAN</td>\n      <td>2.155556</td>\n      <td>0.0</td>\n      <td>...</td>\n      <td>0.0</td>\n      <td>0.0</td>\n      <td>0.0</td>\n      <td>0.0</td>\n      <td>0.0</td>\n      <td>0.0</td>\n      <td>0.0</td>\n      <td>0.0</td>\n      <td>0.0</td>\n      <td>0.0</td>\n    </tr>\n    <tr>\n      <th>3</th>\n      <td>3</td>\n      <td>17301855.0</td>\n      <td>29732723</td>\n      <td>2140-06-06 14:23:00</td>\n      <td>NaN</td>\n      <td>ELECTIVE</td>\n      <td>Other</td>\n      <td>WHITE</td>\n      <td>2.001389</td>\n      <td>0.0</td>\n      <td>...</td>\n      <td>0.0</td>\n      <td>0.0</td>\n      <td>0.0</td>\n      <td>0.0</td>\n      <td>1.0</td>\n      <td>0.0</td>\n      <td>0.0</td>\n      <td>0.0</td>\n      <td>0.0</td>\n      <td>0.0</td>\n    </tr>\n    <tr>\n      <th>4</th>\n      <td>4</td>\n      <td>17991012.0</td>\n      <td>24298836</td>\n      <td>2181-07-10 20:28:00</td>\n      <td>NaN</td>\n      <td>ELECTIVE</td>\n      <td>Other</td>\n      <td>WHITE</td>\n      <td>1.806250</td>\n      <td>0.0</td>\n      <td>...</td>\n      <td>0.0</td>\n      <td>0.0</td>\n      <td>0.0</td>\n      <td>0.0</td>\n      <td>0.0</td>\n      <td>0.0</td>\n      <td>0.0</td>\n      <td>0.0</td>\n      <td>0.0</td>\n      <td>0.0</td>\n    </tr>\n  </tbody>\n</table>\n<p>5 rows × 33 columns</p>\n</div>"
     },
     "metadata": {},
     "execution_count": 29
    }
   ],
   "source": [
    "df_preprocessed = pd.read_csv('admits_patients_diag_icu_PROCESSED.csv')\n",
    "df_preprocessed.head()"
   ]
  },
  {
   "cell_type": "code",
   "execution_count": 30,
   "metadata": {},
   "outputs": [
    {
     "output_type": "stream",
     "name": "stdout",
     "text": [
      "<class 'pandas.core.frame.DataFrame'>\nRangeIndex: 362995 entries, 0 to 362994\nData columns (total 33 columns):\n #   Column                                           Non-Null Count   Dtype  \n---  ------                                           --------------   -----  \n 0   Unnamed: 0                                       362995 non-null  int64  \n 1   subject_id                                       335257 non-null  float64\n 2   hadm_id                                          362995 non-null  int64  \n 3   admittime                                        335257 non-null  object \n 4   deathtime                                        5605 non-null    object \n 5   admission_type                                   335257 non-null  object \n 6   insurance                                        335257 non-null  object \n 7   ethnicity                                        335257 non-null  object \n 8   los                                              335257 non-null  float64\n 9   died_at_the_hospital                             335257 non-null  float64\n 10  gender                                           335257 non-null  float64\n 11  anchor_age                                       335257 non-null  object \n 12  dod                                              24581 non-null   object \n 13  blood                                            335257 non-null  float64\n 14  circulatory                                      335257 non-null  float64\n 15  congenital                                       335257 non-null  float64\n 16  digestive                                        335257 non-null  float64\n 17  endocrine                                        335257 non-null  float64\n 18  genitourinary                                    335257 non-null  float64\n 19  infectious                                       335257 non-null  float64\n 20  injury                                           335257 non-null  float64\n 21  mental                                           335257 non-null  float64\n 22  misc                                             335257 non-null  float64\n 23  muscular                                         335257 non-null  float64\n 24  neoplasms                                        335257 non-null  float64\n 25  nervous                                          335257 non-null  float64\n 26  pregnancy                                        335257 non-null  float64\n 27  prenatal                                         335257 non-null  float64\n 28  respiratory                                      335257 non-null  float64\n 29  skin                                             335257 non-null  float64\n 30  Neuro Intermediate                               362995 non-null  float64\n 31  Neuro Surgical Intensive Care Unit (Neuro SICU)  362995 non-null  float64\n 32  Other-ICU                                        362995 non-null  float64\ndtypes: float64(24), int64(2), object(7)\nmemory usage: 91.4+ MB\n"
     ]
    }
   ],
   "source": [
    "df_preprocessed.info()"
   ]
  },
  {
   "cell_type": "code",
   "execution_count": 31,
   "metadata": {},
   "outputs": [
    {
     "output_type": "stream",
     "name": "stdout",
     "text": [
      "<class 'pandas.core.frame.DataFrame'>\nInt64Index: 335257 entries, 0 to 335256\nData columns (total 33 columns):\n #   Column                                           Non-Null Count   Dtype  \n---  ------                                           --------------   -----  \n 0   Unnamed: 0                                       335257 non-null  int64  \n 1   subject_id                                       335257 non-null  float64\n 2   hadm_id                                          335257 non-null  int64  \n 3   admittime                                        335257 non-null  object \n 4   deathtime                                        5605 non-null    object \n 5   admission_type                                   335257 non-null  object \n 6   insurance                                        335257 non-null  object \n 7   ethnicity                                        335257 non-null  object \n 8   los                                              335257 non-null  float64\n 9   died_at_the_hospital                             335257 non-null  float64\n 10  gender                                           335257 non-null  float64\n 11  anchor_age                                       335257 non-null  object \n 12  dod                                              24581 non-null   object \n 13  blood                                            335257 non-null  float64\n 14  circulatory                                      335257 non-null  float64\n 15  congenital                                       335257 non-null  float64\n 16  digestive                                        335257 non-null  float64\n 17  endocrine                                        335257 non-null  float64\n 18  genitourinary                                    335257 non-null  float64\n 19  infectious                                       335257 non-null  float64\n 20  injury                                           335257 non-null  float64\n 21  mental                                           335257 non-null  float64\n 22  misc                                             335257 non-null  float64\n 23  muscular                                         335257 non-null  float64\n 24  neoplasms                                        335257 non-null  float64\n 25  nervous                                          335257 non-null  float64\n 26  pregnancy                                        335257 non-null  float64\n 27  prenatal                                         335257 non-null  float64\n 28  respiratory                                      335257 non-null  float64\n 29  skin                                             335257 non-null  float64\n 30  Neuro Intermediate                               335257 non-null  float64\n 31  Neuro Surgical Intensive Care Unit (Neuro SICU)  335257 non-null  float64\n 32  Other-ICU                                        335257 non-null  float64\ndtypes: float64(24), int64(2), object(7)\nmemory usage: 87.0+ MB\n"
     ]
    }
   ],
   "source": [
    "# Remove LOS with negative number, likely entry error or died before the stay in hospital\n",
    "df_preprocessed = df_preprocessed[df_preprocessed['los'] > 0]\n",
    "df_preprocessed.info()"
   ]
  },
  {
   "cell_type": "code",
   "execution_count": 32,
   "metadata": {},
   "outputs": [
    {
     "output_type": "stream",
     "name": "stdout",
     "text": [
      "<class 'pandas.core.frame.DataFrame'>\nInt64Index: 335257 entries, 0 to 335256\nData columns (total 26 columns):\n #   Column                                           Non-Null Count   Dtype  \n---  ------                                           --------------   -----  \n 0   admission_type                                   335257 non-null  object \n 1   insurance                                        335257 non-null  object \n 2   ethnicity                                        335257 non-null  object \n 3   died_at_the_hospital                             335257 non-null  float64\n 4   gender                                           335257 non-null  float64\n 5   anchor_age                                       335257 non-null  object \n 6   blood                                            335257 non-null  float64\n 7   circulatory                                      335257 non-null  float64\n 8   congenital                                       335257 non-null  float64\n 9   digestive                                        335257 non-null  float64\n 10  endocrine                                        335257 non-null  float64\n 11  genitourinary                                    335257 non-null  float64\n 12  infectious                                       335257 non-null  float64\n 13  injury                                           335257 non-null  float64\n 14  mental                                           335257 non-null  float64\n 15  misc                                             335257 non-null  float64\n 16  muscular                                         335257 non-null  float64\n 17  neoplasms                                        335257 non-null  float64\n 18  nervous                                          335257 non-null  float64\n 19  pregnancy                                        335257 non-null  float64\n 20  prenatal                                         335257 non-null  float64\n 21  respiratory                                      335257 non-null  float64\n 22  skin                                             335257 non-null  float64\n 23  Neuro Intermediate                               335257 non-null  float64\n 24  Neuro Surgical Intensive Care Unit (Neuro SICU)  335257 non-null  float64\n 25  Other-ICU                                        335257 non-null  float64\ndtypes: float64(22), object(4)\nmemory usage: 69.1+ MB\n"
     ]
    }
   ],
   "source": [
    "# Drop unused columns\n",
    "df_preprocessed.drop(columns=['Unnamed: 0', 'subject_id', 'hadm_id', 'admittime', 'deathtime',\n",
    "                'los', 'dod'], inplace=True)\n",
    "\n",
    "df_preprocessed.info()"
   ]
  },
  {
   "cell_type": "code",
   "execution_count": 33,
   "metadata": {},
   "outputs": [
    {
     "output_type": "execute_result",
     "data": {
      "text/plain": [
       "0.0    329652\n",
       "1.0      5605\n",
       "Name: died_at_the_hospital, dtype: int64"
      ]
     },
     "metadata": {},
     "execution_count": 33
    }
   ],
   "source": [
    "df_preprocessed.died_at_the_hospital.value_counts()"
   ]
  },
  {
   "cell_type": "code",
   "execution_count": 34,
   "metadata": {},
   "outputs": [
    {
     "output_type": "stream",
     "name": "stdout",
     "text": [
      "Number of positive samples: 5605\nNumber of negative samples: 329652\nTotal samples: 335257\n"
     ]
    }
   ],
   "source": [
    "print('Number of positive samples:', (df_preprocessed.died_at_the_hospital == 1).sum()) # died at hospital\n",
    "print('Number of negative samples:',  (df_preprocessed.died_at_the_hospital == 0).sum()) # not died at hospital\n",
    "print('Total samples:', len(df_preprocessed))"
   ]
  },
  {
   "source": [
    "## Data Cleaning"
   ],
   "cell_type": "markdown",
   "metadata": {}
  },
  {
   "cell_type": "code",
   "execution_count": 35,
   "metadata": {},
   "outputs": [
    {
     "output_type": "stream",
     "name": "stdout",
     "text": [
      "<class 'pandas.core.frame.DataFrame'>\nInt64Index: 335257 entries, 0 to 335256\nData columns (total 38 columns):\n #   Column                                           Non-Null Count   Dtype  \n---  ------                                           --------------   -----  \n 0   died_at_the_hospital                             335257 non-null  float64\n 1   gender                                           335257 non-null  float64\n 2   blood                                            335257 non-null  float64\n 3   circulatory                                      335257 non-null  float64\n 4   congenital                                       335257 non-null  float64\n 5   digestive                                        335257 non-null  float64\n 6   endocrine                                        335257 non-null  float64\n 7   genitourinary                                    335257 non-null  float64\n 8   infectious                                       335257 non-null  float64\n 9   injury                                           335257 non-null  float64\n 10  mental                                           335257 non-null  float64\n 11  misc                                             335257 non-null  float64\n 12  muscular                                         335257 non-null  float64\n 13  neoplasms                                        335257 non-null  float64\n 14  nervous                                          335257 non-null  float64\n 15  pregnancy                                        335257 non-null  float64\n 16  prenatal                                         335257 non-null  float64\n 17  respiratory                                      335257 non-null  float64\n 18  skin                                             335257 non-null  float64\n 19  Neuro Intermediate                               335257 non-null  float64\n 20  Neuro Surgical Intensive Care Unit (Neuro SICU)  335257 non-null  float64\n 21  Other-ICU                                        335257 non-null  float64\n 22  ADM_ELECTIVE                                     335257 non-null  uint8  \n 23  ADM_EMERGENCY                                    335257 non-null  uint8  \n 24  ADM_OBSERVATION                                  335257 non-null  uint8  \n 25  ADM_SURGICAL SAME DAY ADMISSION                  335257 non-null  uint8  \n 26  INS_Medicaid                                     335257 non-null  uint8  \n 27  INS_Medicare                                     335257 non-null  uint8  \n 28  INS_Other                                        335257 non-null  uint8  \n 29  ETH_ASIAN                                        335257 non-null  uint8  \n 30  ETH_BLACK/AFRICAN AMERICAN                       335257 non-null  uint8  \n 31  ETH_HISPANIC/LATINO                              335257 non-null  uint8  \n 32  ETH_OTHER/UNKNOWN                                335257 non-null  uint8  \n 33  ETH_WHITE                                        335257 non-null  uint8  \n 34  AGE_MIDDLE_ADULT                                 335257 non-null  uint8  \n 35  AGE_NEWBORN                                      335257 non-null  uint8  \n 36  AGE_SENIOR                                       335257 non-null  uint8  \n 37  AGE_YOUNG_ADULT                                  335257 non-null  uint8  \ndtypes: float64(22), uint8(16)\nmemory usage: 63.9 MB\n"
     ]
    }
   ],
   "source": [
    "# Create dummy columns for categorical variables\n",
    "prefix_cols = ['ADM', 'INS', 'ETH', 'AGE']\n",
    "dummy_cols = ['admission_type', 'insurance','ethnicity', 'anchor_age']\n",
    "df_cleaned = pd.get_dummies(df_preprocessed, prefix=prefix_cols, columns=dummy_cols)\n",
    "df_cleaned.info()"
   ]
  },
  {
   "cell_type": "code",
   "execution_count": 65,
   "metadata": {},
   "outputs": [],
   "source": [
    "df_cleaned = df_cleaned.astype(int)"
   ]
  },
  {
   "cell_type": "code",
   "execution_count": 66,
   "metadata": {},
   "outputs": [
    {
     "output_type": "stream",
     "name": "stdout",
     "text": [
      "<class 'pandas.core.frame.DataFrame'>\nRangeIndex: 335257 entries, 0 to 335256\nData columns (total 38 columns):\n #   Column                                           Non-Null Count   Dtype\n---  ------                                           --------------   -----\n 0   died_at_the_hospital                             335257 non-null  int32\n 1   gender                                           335257 non-null  int32\n 2   blood                                            335257 non-null  int32\n 3   circulatory                                      335257 non-null  int32\n 4   congenital                                       335257 non-null  int32\n 5   digestive                                        335257 non-null  int32\n 6   endocrine                                        335257 non-null  int32\n 7   genitourinary                                    335257 non-null  int32\n 8   infectious                                       335257 non-null  int32\n 9   injury                                           335257 non-null  int32\n 10  mental                                           335257 non-null  int32\n 11  misc                                             335257 non-null  int32\n 12  muscular                                         335257 non-null  int32\n 13  neoplasms                                        335257 non-null  int32\n 14  nervous                                          335257 non-null  int32\n 15  pregnancy                                        335257 non-null  int32\n 16  prenatal                                         335257 non-null  int32\n 17  respiratory                                      335257 non-null  int32\n 18  skin                                             335257 non-null  int32\n 19  Neuro Intermediate                               335257 non-null  int32\n 20  Neuro Surgical Intensive Care Unit (Neuro SICU)  335257 non-null  int32\n 21  Other-ICU                                        335257 non-null  int32\n 22  ADM_ELECTIVE                                     335257 non-null  int32\n 23  ADM_EMERGENCY                                    335257 non-null  int32\n 24  ADM_OBSERVATION                                  335257 non-null  int32\n 25  ADM_SURGICAL SAME DAY ADMISSION                  335257 non-null  int32\n 26  INS_Medicaid                                     335257 non-null  int32\n 27  INS_Medicare                                     335257 non-null  int32\n 28  INS_Other                                        335257 non-null  int32\n 29  ETH_ASIAN                                        335257 non-null  int32\n 30  ETH_BLACK/AFRICAN AMERICAN                       335257 non-null  int32\n 31  ETH_HISPANIC/LATINO                              335257 non-null  int32\n 32  ETH_OTHER/UNKNOWN                                335257 non-null  int32\n 33  ETH_WHITE                                        335257 non-null  int32\n 34  AGE_MIDDLE_ADULT                                 335257 non-null  int32\n 35  AGE_NEWBORN                                      335257 non-null  int32\n 36  AGE_SENIOR                                       335257 non-null  int32\n 37  AGE_YOUNG_ADULT                                  335257 non-null  int32\ndtypes: int32(38)\nmemory usage: 48.6 MB\n"
     ]
    }
   ],
   "source": [
    "df_cleaned.info()"
   ]
  },
  {
   "cell_type": "code",
   "execution_count": 67,
   "metadata": {},
   "outputs": [
    {
     "output_type": "execute_result",
     "data": {
      "text/plain": [
       "0"
      ]
     },
     "metadata": {},
     "execution_count": 67
    }
   ],
   "source": [
    "# Check for any remaining NaNs\n",
    "df_cleaned.isnull().values.sum()"
   ]
  },
  {
   "source": [
    "## Create training and test dataframes\n",
    "When we build a predictive model, we want the model to work well on data that the model has never seen. To test for this we take our data and split it into three datasets: training, validation and test.\n",
    "\n",
    "- **training set**: used to train the model\n",
    "- **validation set**: data the model didn't see, but are used to optimize or tune parameters of the model\n",
    "- **test set**: data the model and tuning process never saw (true test of generalizability)\n"
   ],
   "cell_type": "markdown",
   "metadata": {}
  },
  {
   "cell_type": "code",
   "execution_count": 94,
   "metadata": {},
   "outputs": [],
   "source": [
    "# Target Variable (died_at_the_hospital)\n",
    "HOSP_MORT = df_cleaned['died_at_the_hospital'].values\n",
    "# Prediction Features\n",
    "features = df_cleaned.drop(columns=['died_at_the_hospital'])"
   ]
  },
  {
   "cell_type": "code",
   "execution_count": 95,
   "metadata": {},
   "outputs": [],
   "source": [
    "from sklearn.model_selection import train_test_split\n",
    "\n",
    "# Let's say we want to split the data in 70:15:15 for train:valid:test dataset\n",
    "\n",
    "# In the first step we will split the data in training and remaining dataset\n",
    "X_train, X_rem, y_train, y_rem = train_test_split(features, HOSP_MORT, train_size=0.7)"
   ]
  },
  {
   "cell_type": "code",
   "execution_count": 96,
   "metadata": {},
   "outputs": [],
   "source": [
    "# Now since we want the valid and test size to be equal (15% each of overall data). \n",
    "# we have to define valid_size=0.5 (that is 50% of remaining data)\n",
    "\n",
    "X_valid, X_test, y_valid, y_test = train_test_split(X_rem,y_rem, test_size=0.5)"
   ]
  },
  {
   "cell_type": "code",
   "execution_count": 97,
   "metadata": {},
   "outputs": [
    {
     "output_type": "stream",
     "name": "stdout",
     "text": [
      "(268205, 37)\n(268205,)\n(33526, 37)\n(33526,)\n(33526, 37)\n(33526,)\n"
     ]
    },
    {
     "output_type": "execute_result",
     "data": {
      "text/plain": [
       "(None, None)"
      ]
     },
     "metadata": {},
     "execution_count": 97
    }
   ],
   "source": [
    "print(X_train.shape), print(y_train.shape)\n",
    "print(X_valid.shape), print(y_valid.shape)\n",
    "print(X_test.shape), print(y_test.shape)"
   ]
  },
  {
   "cell_type": "code",
   "execution_count": 75,
   "metadata": {},
   "outputs": [],
   "source": [
    "# If we want to calculate probability of re-admission\n",
    "model = clf\n",
    "y_train_preds = model.predict_proba(X_train)[:,1]\n",
    "y_valid_preds = model.predict_proba(X_valid)[:,1]"
   ]
  },
  {
   "cell_type": "code",
   "execution_count": 76,
   "metadata": {},
   "outputs": [
    {
     "output_type": "stream",
     "name": "stdout",
     "text": [
      "[0 0 0 0 0 0 0 0 0 0]\n[0.00806363 0.0136367  0.00823423 0.02303205 0.00522055 0.04110581\n 0.0813607  0.00696373 0.04725304 0.00651547]\n"
     ]
    }
   ],
   "source": [
    "print(y_train[:10])\n",
    "print(y_train_preds[:10])"
   ]
  },
  {
   "cell_type": "code",
   "execution_count": 99,
   "metadata": {},
   "outputs": [],
   "source": [
    "import seaborn as sns\n",
    "from sklearn.metrics import r2_score, mean_squared_error\n",
    "from sklearn.neighbors import KNeighborsRegressor\n",
    "from sklearn.linear_model import LinearRegression\n",
    "from sklearn.ensemble import RandomForestRegressor\n",
    "from sklearn.ensemble import GradientBoostingRegressor\n",
    "from sklearn.model_selection import GridSearchCV"
   ]
  },
  {
   "cell_type": "code",
   "execution_count": 100,
   "metadata": {},
   "outputs": [
    {
     "output_type": "stream",
     "name": "stdout",
     "text": [
      "SGDRegressor done.\n",
      "GradientBoostingRegressor done.\n",
      "LinearRegression done.\n",
      "KNeighborsRegressor done.\n",
      "RandomForestRegressor done.\n"
     ]
    }
   ],
   "source": [
    "# Regression models used from scikit-learn for comparison OR\n",
    "models = [GradientBoostingRegressor(random_state = 0), \n",
    "          LinearRegression(),\n",
    "          KNeighborsRegressor(),\n",
    "          RandomForestRegressor(random_state = 0)]\n",
    "\n",
    "results = {}\n",
    "\n",
    "for model in models:\n",
    "    # Instantiate and fit Regressor Model\n",
    "    reg_model = model\n",
    "    reg_model.fit(X_train, y_train)\n",
    "    \n",
    "    # Make predictions with model\n",
    "    y_valid_preds = reg_model.predict(X_valid)\n",
    "    \n",
    "    # Grab model name and store results associated with model\n",
    "    name = str(model).split(\"(\")[0]\n",
    "\n",
    "    results[name] = r2_score(y_valid, y_valid_preds)\n",
    "    print('{} done.'.format(name))"
   ]
  },
  {
   "cell_type": "code",
   "execution_count": 102,
   "metadata": {},
   "outputs": [
    {
     "output_type": "display_data",
     "data": {
      "text/plain": "<Figure size 432x288 with 1 Axes>",
      "image/svg+xml": "<?xml version=\"1.0\" encoding=\"utf-8\" standalone=\"no\"?>\r\n<!DOCTYPE svg PUBLIC \"-//W3C//DTD SVG 1.1//EN\"\r\n  \"http://www.w3.org/Graphics/SVG/1.1/DTD/svg11.dtd\">\r\n<!-- Created with matplotlib (https://matplotlib.org/) -->\r\n<svg height=\"277.314375pt\" version=\"1.1\" viewBox=\"0 0 493.104688 277.314375\" width=\"493.104688pt\" xmlns=\"http://www.w3.org/2000/svg\" xmlns:xlink=\"http://www.w3.org/1999/xlink\">\r\n <metadata>\r\n  <rdf:RDF xmlns:cc=\"http://creativecommons.org/ns#\" xmlns:dc=\"http://purl.org/dc/elements/1.1/\" xmlns:rdf=\"http://www.w3.org/1999/02/22-rdf-syntax-ns#\">\r\n   <cc:Work>\r\n    <dc:type rdf:resource=\"http://purl.org/dc/dcmitype/StillImage\"/>\r\n    <dc:date>2021-07-18T19:00:05.632134</dc:date>\r\n    <dc:format>image/svg+xml</dc:format>\r\n    <dc:creator>\r\n     <cc:Agent>\r\n      <dc:title>Matplotlib v3.3.4, https://matplotlib.org/</dc:title>\r\n     </cc:Agent>\r\n    </dc:creator>\r\n   </cc:Work>\r\n  </rdf:RDF>\r\n </metadata>\r\n <defs>\r\n  <style type=\"text/css\">*{stroke-linecap:butt;stroke-linejoin:round;}</style>\r\n </defs>\r\n <g id=\"figure_1\">\r\n  <g id=\"patch_1\">\r\n   <path d=\"M 0 277.314375 \r\nL 493.104687 277.314375 \r\nL 493.104687 0 \r\nL 0 0 \r\nz\r\n\" style=\"fill:none;\"/>\r\n  </g>\r\n  <g id=\"axes_1\">\r\n   <g id=\"patch_2\">\r\n    <path d=\"M 151.104687 239.758125 \r\nL 485.904687 239.758125 \r\nL 485.904687 22.318125 \r\nL 151.104687 22.318125 \r\nz\r\n\" style=\"fill:#ffffff;\"/>\r\n   </g>\r\n   <g id=\"patch_3\">\r\n    <path clip-path=\"url(#p38ff8d8799)\" d=\"M 233.521024 229.874489 \r\nL 386.81706 229.874489 \r\nL 386.81706 196.929034 \r\nL 233.521024 196.929034 \r\nz\r\n\" style=\"fill:#55a868;opacity:0.8;\"/>\r\n   </g>\r\n   <g id=\"patch_4\">\r\n    <path clip-path=\"url(#p38ff8d8799)\" d=\"M 233.521024 188.69267 \r\nL 470.686506 188.69267 \r\nL 470.686506 155.747216 \r\nL 233.521024 155.747216 \r\nz\r\n\" style=\"fill:#55a868;opacity:0.8;\"/>\r\n   </g>\r\n   <g id=\"patch_5\">\r\n    <path clip-path=\"url(#p38ff8d8799)\" d=\"M 233.521024 147.510852 \r\nL 394.335998 147.510852 \r\nL 394.335998 114.565398 \r\nL 233.521024 114.565398 \r\nz\r\n\" style=\"fill:#55a868;opacity:0.8;\"/>\r\n   </g>\r\n   <g id=\"patch_6\">\r\n    <path clip-path=\"url(#p38ff8d8799)\" d=\"M 233.521024 106.329034 \r\nL 166.322869 106.329034 \r\nL 166.322869 73.38358 \r\nL 233.521024 73.38358 \r\nz\r\n\" style=\"fill:#55a868;opacity:0.8;\"/>\r\n   </g>\r\n   <g id=\"patch_7\">\r\n    <path clip-path=\"url(#p38ff8d8799)\" d=\"M 233.521024 65.147216 \r\nL 326.902061 65.147216 \r\nL 326.902061 32.201761 \r\nL 233.521024 32.201761 \r\nz\r\n\" style=\"fill:#55a868;opacity:0.8;\"/>\r\n   </g>\r\n   <g id=\"matplotlib.axis_1\">\r\n    <g id=\"xtick_1\">\r\n     <g id=\"line2d_1\">\r\n      <defs>\r\n       <path d=\"M 0 0 \r\nL 0 3.5 \r\n\" id=\"m17a6bdf50c\" style=\"stroke:#000000;stroke-width:0.8;\"/>\r\n      </defs>\r\n      <g>\r\n       <use style=\"stroke:#000000;stroke-width:0.8;\" x=\"156.037319\" xlink:href=\"#m17a6bdf50c\" y=\"239.758125\"/>\r\n      </g>\r\n     </g>\r\n     <g id=\"text_1\">\r\n      <!-- −0.04 -->\r\n      <g transform=\"translate(140.714663 254.356562)scale(0.1 -0.1)\">\r\n       <defs>\r\n        <path d=\"M 10.59375 35.5 \r\nL 73.1875 35.5 \r\nL 73.1875 27.203125 \r\nL 10.59375 27.203125 \r\nz\r\n\" id=\"DejaVuSans-8722\"/>\r\n        <path d=\"M 31.78125 66.40625 \r\nQ 24.171875 66.40625 20.328125 58.90625 \r\nQ 16.5 51.421875 16.5 36.375 \r\nQ 16.5 21.390625 20.328125 13.890625 \r\nQ 24.171875 6.390625 31.78125 6.390625 \r\nQ 39.453125 6.390625 43.28125 13.890625 \r\nQ 47.125 21.390625 47.125 36.375 \r\nQ 47.125 51.421875 43.28125 58.90625 \r\nQ 39.453125 66.40625 31.78125 66.40625 \r\nz\r\nM 31.78125 74.21875 \r\nQ 44.046875 74.21875 50.515625 64.515625 \r\nQ 56.984375 54.828125 56.984375 36.375 \r\nQ 56.984375 17.96875 50.515625 8.265625 \r\nQ 44.046875 -1.421875 31.78125 -1.421875 \r\nQ 19.53125 -1.421875 13.0625 8.265625 \r\nQ 6.59375 17.96875 6.59375 36.375 \r\nQ 6.59375 54.828125 13.0625 64.515625 \r\nQ 19.53125 74.21875 31.78125 74.21875 \r\nz\r\n\" id=\"DejaVuSans-48\"/>\r\n        <path d=\"M 10.6875 12.40625 \r\nL 21 12.40625 \r\nL 21 0 \r\nL 10.6875 0 \r\nz\r\n\" id=\"DejaVuSans-46\"/>\r\n        <path d=\"M 37.796875 64.3125 \r\nL 12.890625 25.390625 \r\nL 37.796875 25.390625 \r\nz\r\nM 35.203125 72.90625 \r\nL 47.609375 72.90625 \r\nL 47.609375 25.390625 \r\nL 58.015625 25.390625 \r\nL 58.015625 17.1875 \r\nL 47.609375 17.1875 \r\nL 47.609375 0 \r\nL 37.796875 0 \r\nL 37.796875 17.1875 \r\nL 4.890625 17.1875 \r\nL 4.890625 26.703125 \r\nz\r\n\" id=\"DejaVuSans-52\"/>\r\n       </defs>\r\n       <use xlink:href=\"#DejaVuSans-8722\"/>\r\n       <use x=\"83.789062\" xlink:href=\"#DejaVuSans-48\"/>\r\n       <use x=\"147.412109\" xlink:href=\"#DejaVuSans-46\"/>\r\n       <use x=\"179.199219\" xlink:href=\"#DejaVuSans-48\"/>\r\n       <use x=\"242.822266\" xlink:href=\"#DejaVuSans-52\"/>\r\n      </g>\r\n     </g>\r\n    </g>\r\n    <g id=\"xtick_2\">\r\n     <g id=\"line2d_2\">\r\n      <g>\r\n       <use style=\"stroke:#000000;stroke-width:0.8;\" x=\"194.779172\" xlink:href=\"#m17a6bdf50c\" y=\"239.758125\"/>\r\n      </g>\r\n     </g>\r\n     <g id=\"text_2\">\r\n      <!-- −0.02 -->\r\n      <g transform=\"translate(179.456515 254.356562)scale(0.1 -0.1)\">\r\n       <defs>\r\n        <path d=\"M 19.1875 8.296875 \r\nL 53.609375 8.296875 \r\nL 53.609375 0 \r\nL 7.328125 0 \r\nL 7.328125 8.296875 \r\nQ 12.9375 14.109375 22.625 23.890625 \r\nQ 32.328125 33.6875 34.8125 36.53125 \r\nQ 39.546875 41.84375 41.421875 45.53125 \r\nQ 43.3125 49.21875 43.3125 52.78125 \r\nQ 43.3125 58.59375 39.234375 62.25 \r\nQ 35.15625 65.921875 28.609375 65.921875 \r\nQ 23.96875 65.921875 18.8125 64.3125 \r\nQ 13.671875 62.703125 7.8125 59.421875 \r\nL 7.8125 69.390625 \r\nQ 13.765625 71.78125 18.9375 73 \r\nQ 24.125 74.21875 28.421875 74.21875 \r\nQ 39.75 74.21875 46.484375 68.546875 \r\nQ 53.21875 62.890625 53.21875 53.421875 \r\nQ 53.21875 48.921875 51.53125 44.890625 \r\nQ 49.859375 40.875 45.40625 35.40625 \r\nQ 44.1875 33.984375 37.640625 27.21875 \r\nQ 31.109375 20.453125 19.1875 8.296875 \r\nz\r\n\" id=\"DejaVuSans-50\"/>\r\n       </defs>\r\n       <use xlink:href=\"#DejaVuSans-8722\"/>\r\n       <use x=\"83.789062\" xlink:href=\"#DejaVuSans-48\"/>\r\n       <use x=\"147.412109\" xlink:href=\"#DejaVuSans-46\"/>\r\n       <use x=\"179.199219\" xlink:href=\"#DejaVuSans-48\"/>\r\n       <use x=\"242.822266\" xlink:href=\"#DejaVuSans-50\"/>\r\n      </g>\r\n     </g>\r\n    </g>\r\n    <g id=\"xtick_3\">\r\n     <g id=\"line2d_3\">\r\n      <g>\r\n       <use style=\"stroke:#000000;stroke-width:0.8;\" x=\"233.521024\" xlink:href=\"#m17a6bdf50c\" y=\"239.758125\"/>\r\n      </g>\r\n     </g>\r\n     <g id=\"text_3\">\r\n      <!-- 0.00 -->\r\n      <g transform=\"translate(222.388212 254.356562)scale(0.1 -0.1)\">\r\n       <use xlink:href=\"#DejaVuSans-48\"/>\r\n       <use x=\"63.623047\" xlink:href=\"#DejaVuSans-46\"/>\r\n       <use x=\"95.410156\" xlink:href=\"#DejaVuSans-48\"/>\r\n       <use x=\"159.033203\" xlink:href=\"#DejaVuSans-48\"/>\r\n      </g>\r\n     </g>\r\n    </g>\r\n    <g id=\"xtick_4\">\r\n     <g id=\"line2d_4\">\r\n      <g>\r\n       <use style=\"stroke:#000000;stroke-width:0.8;\" x=\"272.262877\" xlink:href=\"#m17a6bdf50c\" y=\"239.758125\"/>\r\n      </g>\r\n     </g>\r\n     <g id=\"text_4\">\r\n      <!-- 0.02 -->\r\n      <g transform=\"translate(261.130065 254.356562)scale(0.1 -0.1)\">\r\n       <use xlink:href=\"#DejaVuSans-48\"/>\r\n       <use x=\"63.623047\" xlink:href=\"#DejaVuSans-46\"/>\r\n       <use x=\"95.410156\" xlink:href=\"#DejaVuSans-48\"/>\r\n       <use x=\"159.033203\" xlink:href=\"#DejaVuSans-50\"/>\r\n      </g>\r\n     </g>\r\n    </g>\r\n    <g id=\"xtick_5\">\r\n     <g id=\"line2d_5\">\r\n      <g>\r\n       <use style=\"stroke:#000000;stroke-width:0.8;\" x=\"311.00473\" xlink:href=\"#m17a6bdf50c\" y=\"239.758125\"/>\r\n      </g>\r\n     </g>\r\n     <g id=\"text_5\">\r\n      <!-- 0.04 -->\r\n      <g transform=\"translate(299.871917 254.356562)scale(0.1 -0.1)\">\r\n       <use xlink:href=\"#DejaVuSans-48\"/>\r\n       <use x=\"63.623047\" xlink:href=\"#DejaVuSans-46\"/>\r\n       <use x=\"95.410156\" xlink:href=\"#DejaVuSans-48\"/>\r\n       <use x=\"159.033203\" xlink:href=\"#DejaVuSans-52\"/>\r\n      </g>\r\n     </g>\r\n    </g>\r\n    <g id=\"xtick_6\">\r\n     <g id=\"line2d_6\">\r\n      <g>\r\n       <use style=\"stroke:#000000;stroke-width:0.8;\" x=\"349.746583\" xlink:href=\"#m17a6bdf50c\" y=\"239.758125\"/>\r\n      </g>\r\n     </g>\r\n     <g id=\"text_6\">\r\n      <!-- 0.06 -->\r\n      <g transform=\"translate(338.61377 254.356562)scale(0.1 -0.1)\">\r\n       <defs>\r\n        <path d=\"M 33.015625 40.375 \r\nQ 26.375 40.375 22.484375 35.828125 \r\nQ 18.609375 31.296875 18.609375 23.390625 \r\nQ 18.609375 15.53125 22.484375 10.953125 \r\nQ 26.375 6.390625 33.015625 6.390625 \r\nQ 39.65625 6.390625 43.53125 10.953125 \r\nQ 47.40625 15.53125 47.40625 23.390625 \r\nQ 47.40625 31.296875 43.53125 35.828125 \r\nQ 39.65625 40.375 33.015625 40.375 \r\nz\r\nM 52.59375 71.296875 \r\nL 52.59375 62.3125 \r\nQ 48.875 64.0625 45.09375 64.984375 \r\nQ 41.3125 65.921875 37.59375 65.921875 \r\nQ 27.828125 65.921875 22.671875 59.328125 \r\nQ 17.53125 52.734375 16.796875 39.40625 \r\nQ 19.671875 43.65625 24.015625 45.921875 \r\nQ 28.375 48.1875 33.59375 48.1875 \r\nQ 44.578125 48.1875 50.953125 41.515625 \r\nQ 57.328125 34.859375 57.328125 23.390625 \r\nQ 57.328125 12.15625 50.6875 5.359375 \r\nQ 44.046875 -1.421875 33.015625 -1.421875 \r\nQ 20.359375 -1.421875 13.671875 8.265625 \r\nQ 6.984375 17.96875 6.984375 36.375 \r\nQ 6.984375 53.65625 15.1875 63.9375 \r\nQ 23.390625 74.21875 37.203125 74.21875 \r\nQ 40.921875 74.21875 44.703125 73.484375 \r\nQ 48.484375 72.75 52.59375 71.296875 \r\nz\r\n\" id=\"DejaVuSans-54\"/>\r\n       </defs>\r\n       <use xlink:href=\"#DejaVuSans-48\"/>\r\n       <use x=\"63.623047\" xlink:href=\"#DejaVuSans-46\"/>\r\n       <use x=\"95.410156\" xlink:href=\"#DejaVuSans-48\"/>\r\n       <use x=\"159.033203\" xlink:href=\"#DejaVuSans-54\"/>\r\n      </g>\r\n     </g>\r\n    </g>\r\n    <g id=\"xtick_7\">\r\n     <g id=\"line2d_7\">\r\n      <g>\r\n       <use style=\"stroke:#000000;stroke-width:0.8;\" x=\"388.488435\" xlink:href=\"#m17a6bdf50c\" y=\"239.758125\"/>\r\n      </g>\r\n     </g>\r\n     <g id=\"text_7\">\r\n      <!-- 0.08 -->\r\n      <g transform=\"translate(377.355623 254.356562)scale(0.1 -0.1)\">\r\n       <defs>\r\n        <path d=\"M 31.78125 34.625 \r\nQ 24.75 34.625 20.71875 30.859375 \r\nQ 16.703125 27.09375 16.703125 20.515625 \r\nQ 16.703125 13.921875 20.71875 10.15625 \r\nQ 24.75 6.390625 31.78125 6.390625 \r\nQ 38.8125 6.390625 42.859375 10.171875 \r\nQ 46.921875 13.96875 46.921875 20.515625 \r\nQ 46.921875 27.09375 42.890625 30.859375 \r\nQ 38.875 34.625 31.78125 34.625 \r\nz\r\nM 21.921875 38.8125 \r\nQ 15.578125 40.375 12.03125 44.71875 \r\nQ 8.5 49.078125 8.5 55.328125 \r\nQ 8.5 64.0625 14.71875 69.140625 \r\nQ 20.953125 74.21875 31.78125 74.21875 \r\nQ 42.671875 74.21875 48.875 69.140625 \r\nQ 55.078125 64.0625 55.078125 55.328125 \r\nQ 55.078125 49.078125 51.53125 44.71875 \r\nQ 48 40.375 41.703125 38.8125 \r\nQ 48.828125 37.15625 52.796875 32.3125 \r\nQ 56.78125 27.484375 56.78125 20.515625 \r\nQ 56.78125 9.90625 50.3125 4.234375 \r\nQ 43.84375 -1.421875 31.78125 -1.421875 \r\nQ 19.734375 -1.421875 13.25 4.234375 \r\nQ 6.78125 9.90625 6.78125 20.515625 \r\nQ 6.78125 27.484375 10.78125 32.3125 \r\nQ 14.796875 37.15625 21.921875 38.8125 \r\nz\r\nM 18.3125 54.390625 \r\nQ 18.3125 48.734375 21.84375 45.5625 \r\nQ 25.390625 42.390625 31.78125 42.390625 \r\nQ 38.140625 42.390625 41.71875 45.5625 \r\nQ 45.3125 48.734375 45.3125 54.390625 \r\nQ 45.3125 60.0625 41.71875 63.234375 \r\nQ 38.140625 66.40625 31.78125 66.40625 \r\nQ 25.390625 66.40625 21.84375 63.234375 \r\nQ 18.3125 60.0625 18.3125 54.390625 \r\nz\r\n\" id=\"DejaVuSans-56\"/>\r\n       </defs>\r\n       <use xlink:href=\"#DejaVuSans-48\"/>\r\n       <use x=\"63.623047\" xlink:href=\"#DejaVuSans-46\"/>\r\n       <use x=\"95.410156\" xlink:href=\"#DejaVuSans-48\"/>\r\n       <use x=\"159.033203\" xlink:href=\"#DejaVuSans-56\"/>\r\n      </g>\r\n     </g>\r\n    </g>\r\n    <g id=\"xtick_8\">\r\n     <g id=\"line2d_8\">\r\n      <g>\r\n       <use style=\"stroke:#000000;stroke-width:0.8;\" x=\"427.230288\" xlink:href=\"#m17a6bdf50c\" y=\"239.758125\"/>\r\n      </g>\r\n     </g>\r\n     <g id=\"text_8\">\r\n      <!-- 0.10 -->\r\n      <g transform=\"translate(416.097476 254.356562)scale(0.1 -0.1)\">\r\n       <defs>\r\n        <path d=\"M 12.40625 8.296875 \r\nL 28.515625 8.296875 \r\nL 28.515625 63.921875 \r\nL 10.984375 60.40625 \r\nL 10.984375 69.390625 \r\nL 28.421875 72.90625 \r\nL 38.28125 72.90625 \r\nL 38.28125 8.296875 \r\nL 54.390625 8.296875 \r\nL 54.390625 0 \r\nL 12.40625 0 \r\nz\r\n\" id=\"DejaVuSans-49\"/>\r\n       </defs>\r\n       <use xlink:href=\"#DejaVuSans-48\"/>\r\n       <use x=\"63.623047\" xlink:href=\"#DejaVuSans-46\"/>\r\n       <use x=\"95.410156\" xlink:href=\"#DejaVuSans-49\"/>\r\n       <use x=\"159.033203\" xlink:href=\"#DejaVuSans-48\"/>\r\n      </g>\r\n     </g>\r\n    </g>\r\n    <g id=\"xtick_9\">\r\n     <g id=\"line2d_9\">\r\n      <g>\r\n       <use style=\"stroke:#000000;stroke-width:0.8;\" x=\"465.972141\" xlink:href=\"#m17a6bdf50c\" y=\"239.758125\"/>\r\n      </g>\r\n     </g>\r\n     <g id=\"text_9\">\r\n      <!-- 0.12 -->\r\n      <g transform=\"translate(454.839328 254.356562)scale(0.1 -0.1)\">\r\n       <use xlink:href=\"#DejaVuSans-48\"/>\r\n       <use x=\"63.623047\" xlink:href=\"#DejaVuSans-46\"/>\r\n       <use x=\"95.410156\" xlink:href=\"#DejaVuSans-49\"/>\r\n       <use x=\"159.033203\" xlink:href=\"#DejaVuSans-50\"/>\r\n      </g>\r\n     </g>\r\n    </g>\r\n    <g id=\"text_10\">\r\n     <!-- R-squared score -->\r\n     <g transform=\"translate(278.199219 268.034687)scale(0.1 -0.1)\">\r\n      <defs>\r\n       <path d=\"M 44.390625 34.1875 \r\nQ 47.5625 33.109375 50.5625 29.59375 \r\nQ 53.5625 26.078125 56.59375 19.921875 \r\nL 66.609375 0 \r\nL 56 0 \r\nL 46.6875 18.703125 \r\nQ 43.0625 26.03125 39.671875 28.421875 \r\nQ 36.28125 30.8125 30.421875 30.8125 \r\nL 19.671875 30.8125 \r\nL 19.671875 0 \r\nL 9.8125 0 \r\nL 9.8125 72.90625 \r\nL 32.078125 72.90625 \r\nQ 44.578125 72.90625 50.734375 67.671875 \r\nQ 56.890625 62.453125 56.890625 51.90625 \r\nQ 56.890625 45.015625 53.6875 40.46875 \r\nQ 50.484375 35.9375 44.390625 34.1875 \r\nz\r\nM 19.671875 64.796875 \r\nL 19.671875 38.921875 \r\nL 32.078125 38.921875 \r\nQ 39.203125 38.921875 42.84375 42.21875 \r\nQ 46.484375 45.515625 46.484375 51.90625 \r\nQ 46.484375 58.296875 42.84375 61.546875 \r\nQ 39.203125 64.796875 32.078125 64.796875 \r\nz\r\n\" id=\"DejaVuSans-82\"/>\r\n       <path d=\"M 4.890625 31.390625 \r\nL 31.203125 31.390625 \r\nL 31.203125 23.390625 \r\nL 4.890625 23.390625 \r\nz\r\n\" id=\"DejaVuSans-45\"/>\r\n       <path d=\"M 44.28125 53.078125 \r\nL 44.28125 44.578125 \r\nQ 40.484375 46.53125 36.375 47.5 \r\nQ 32.28125 48.484375 27.875 48.484375 \r\nQ 21.1875 48.484375 17.84375 46.4375 \r\nQ 14.5 44.390625 14.5 40.28125 \r\nQ 14.5 37.15625 16.890625 35.375 \r\nQ 19.28125 33.59375 26.515625 31.984375 \r\nL 29.59375 31.296875 \r\nQ 39.15625 29.25 43.1875 25.515625 \r\nQ 47.21875 21.78125 47.21875 15.09375 \r\nQ 47.21875 7.46875 41.1875 3.015625 \r\nQ 35.15625 -1.421875 24.609375 -1.421875 \r\nQ 20.21875 -1.421875 15.453125 -0.5625 \r\nQ 10.6875 0.296875 5.421875 2 \r\nL 5.421875 11.28125 \r\nQ 10.40625 8.6875 15.234375 7.390625 \r\nQ 20.0625 6.109375 24.8125 6.109375 \r\nQ 31.15625 6.109375 34.5625 8.28125 \r\nQ 37.984375 10.453125 37.984375 14.40625 \r\nQ 37.984375 18.0625 35.515625 20.015625 \r\nQ 33.0625 21.96875 24.703125 23.78125 \r\nL 21.578125 24.515625 \r\nQ 13.234375 26.265625 9.515625 29.90625 \r\nQ 5.8125 33.546875 5.8125 39.890625 \r\nQ 5.8125 47.609375 11.28125 51.796875 \r\nQ 16.75 56 26.8125 56 \r\nQ 31.78125 56 36.171875 55.265625 \r\nQ 40.578125 54.546875 44.28125 53.078125 \r\nz\r\n\" id=\"DejaVuSans-115\"/>\r\n       <path d=\"M 14.796875 27.296875 \r\nQ 14.796875 17.390625 18.875 11.75 \r\nQ 22.953125 6.109375 30.078125 6.109375 \r\nQ 37.203125 6.109375 41.296875 11.75 \r\nQ 45.40625 17.390625 45.40625 27.296875 \r\nQ 45.40625 37.203125 41.296875 42.84375 \r\nQ 37.203125 48.484375 30.078125 48.484375 \r\nQ 22.953125 48.484375 18.875 42.84375 \r\nQ 14.796875 37.203125 14.796875 27.296875 \r\nz\r\nM 45.40625 8.203125 \r\nQ 42.578125 3.328125 38.25 0.953125 \r\nQ 33.9375 -1.421875 27.875 -1.421875 \r\nQ 17.96875 -1.421875 11.734375 6.484375 \r\nQ 5.515625 14.40625 5.515625 27.296875 \r\nQ 5.515625 40.1875 11.734375 48.09375 \r\nQ 17.96875 56 27.875 56 \r\nQ 33.9375 56 38.25 53.625 \r\nQ 42.578125 51.265625 45.40625 46.390625 \r\nL 45.40625 54.6875 \r\nL 54.390625 54.6875 \r\nL 54.390625 -20.796875 \r\nL 45.40625 -20.796875 \r\nz\r\n\" id=\"DejaVuSans-113\"/>\r\n       <path d=\"M 8.5 21.578125 \r\nL 8.5 54.6875 \r\nL 17.484375 54.6875 \r\nL 17.484375 21.921875 \r\nQ 17.484375 14.15625 20.5 10.265625 \r\nQ 23.53125 6.390625 29.59375 6.390625 \r\nQ 36.859375 6.390625 41.078125 11.03125 \r\nQ 45.3125 15.671875 45.3125 23.6875 \r\nL 45.3125 54.6875 \r\nL 54.296875 54.6875 \r\nL 54.296875 0 \r\nL 45.3125 0 \r\nL 45.3125 8.40625 \r\nQ 42.046875 3.421875 37.71875 1 \r\nQ 33.40625 -1.421875 27.6875 -1.421875 \r\nQ 18.265625 -1.421875 13.375 4.4375 \r\nQ 8.5 10.296875 8.5 21.578125 \r\nz\r\nM 31.109375 56 \r\nz\r\n\" id=\"DejaVuSans-117\"/>\r\n       <path d=\"M 34.28125 27.484375 \r\nQ 23.390625 27.484375 19.1875 25 \r\nQ 14.984375 22.515625 14.984375 16.5 \r\nQ 14.984375 11.71875 18.140625 8.90625 \r\nQ 21.296875 6.109375 26.703125 6.109375 \r\nQ 34.1875 6.109375 38.703125 11.40625 \r\nQ 43.21875 16.703125 43.21875 25.484375 \r\nL 43.21875 27.484375 \r\nz\r\nM 52.203125 31.203125 \r\nL 52.203125 0 \r\nL 43.21875 0 \r\nL 43.21875 8.296875 \r\nQ 40.140625 3.328125 35.546875 0.953125 \r\nQ 30.953125 -1.421875 24.3125 -1.421875 \r\nQ 15.921875 -1.421875 10.953125 3.296875 \r\nQ 6 8.015625 6 15.921875 \r\nQ 6 25.140625 12.171875 29.828125 \r\nQ 18.359375 34.515625 30.609375 34.515625 \r\nL 43.21875 34.515625 \r\nL 43.21875 35.40625 \r\nQ 43.21875 41.609375 39.140625 45 \r\nQ 35.0625 48.390625 27.6875 48.390625 \r\nQ 23 48.390625 18.546875 47.265625 \r\nQ 14.109375 46.140625 10.015625 43.890625 \r\nL 10.015625 52.203125 \r\nQ 14.9375 54.109375 19.578125 55.046875 \r\nQ 24.21875 56 28.609375 56 \r\nQ 40.484375 56 46.34375 49.84375 \r\nQ 52.203125 43.703125 52.203125 31.203125 \r\nz\r\n\" id=\"DejaVuSans-97\"/>\r\n       <path d=\"M 41.109375 46.296875 \r\nQ 39.59375 47.171875 37.8125 47.578125 \r\nQ 36.03125 48 33.890625 48 \r\nQ 26.265625 48 22.1875 43.046875 \r\nQ 18.109375 38.09375 18.109375 28.8125 \r\nL 18.109375 0 \r\nL 9.078125 0 \r\nL 9.078125 54.6875 \r\nL 18.109375 54.6875 \r\nL 18.109375 46.1875 \r\nQ 20.953125 51.171875 25.484375 53.578125 \r\nQ 30.03125 56 36.53125 56 \r\nQ 37.453125 56 38.578125 55.875 \r\nQ 39.703125 55.765625 41.0625 55.515625 \r\nz\r\n\" id=\"DejaVuSans-114\"/>\r\n       <path d=\"M 56.203125 29.59375 \r\nL 56.203125 25.203125 \r\nL 14.890625 25.203125 \r\nQ 15.484375 15.921875 20.484375 11.0625 \r\nQ 25.484375 6.203125 34.421875 6.203125 \r\nQ 39.59375 6.203125 44.453125 7.46875 \r\nQ 49.3125 8.734375 54.109375 11.28125 \r\nL 54.109375 2.78125 \r\nQ 49.265625 0.734375 44.1875 -0.34375 \r\nQ 39.109375 -1.421875 33.890625 -1.421875 \r\nQ 20.796875 -1.421875 13.15625 6.1875 \r\nQ 5.515625 13.8125 5.515625 26.8125 \r\nQ 5.515625 40.234375 12.765625 48.109375 \r\nQ 20.015625 56 32.328125 56 \r\nQ 43.359375 56 49.78125 48.890625 \r\nQ 56.203125 41.796875 56.203125 29.59375 \r\nz\r\nM 47.21875 32.234375 \r\nQ 47.125 39.59375 43.09375 43.984375 \r\nQ 39.0625 48.390625 32.421875 48.390625 \r\nQ 24.90625 48.390625 20.390625 44.140625 \r\nQ 15.875 39.890625 15.1875 32.171875 \r\nz\r\n\" id=\"DejaVuSans-101\"/>\r\n       <path d=\"M 45.40625 46.390625 \r\nL 45.40625 75.984375 \r\nL 54.390625 75.984375 \r\nL 54.390625 0 \r\nL 45.40625 0 \r\nL 45.40625 8.203125 \r\nQ 42.578125 3.328125 38.25 0.953125 \r\nQ 33.9375 -1.421875 27.875 -1.421875 \r\nQ 17.96875 -1.421875 11.734375 6.484375 \r\nQ 5.515625 14.40625 5.515625 27.296875 \r\nQ 5.515625 40.1875 11.734375 48.09375 \r\nQ 17.96875 56 27.875 56 \r\nQ 33.9375 56 38.25 53.625 \r\nQ 42.578125 51.265625 45.40625 46.390625 \r\nz\r\nM 14.796875 27.296875 \r\nQ 14.796875 17.390625 18.875 11.75 \r\nQ 22.953125 6.109375 30.078125 6.109375 \r\nQ 37.203125 6.109375 41.296875 11.75 \r\nQ 45.40625 17.390625 45.40625 27.296875 \r\nQ 45.40625 37.203125 41.296875 42.84375 \r\nQ 37.203125 48.484375 30.078125 48.484375 \r\nQ 22.953125 48.484375 18.875 42.84375 \r\nQ 14.796875 37.203125 14.796875 27.296875 \r\nz\r\n\" id=\"DejaVuSans-100\"/>\r\n       <path id=\"DejaVuSans-32\"/>\r\n       <path d=\"M 48.78125 52.59375 \r\nL 48.78125 44.1875 \r\nQ 44.96875 46.296875 41.140625 47.34375 \r\nQ 37.3125 48.390625 33.40625 48.390625 \r\nQ 24.65625 48.390625 19.8125 42.84375 \r\nQ 14.984375 37.3125 14.984375 27.296875 \r\nQ 14.984375 17.28125 19.8125 11.734375 \r\nQ 24.65625 6.203125 33.40625 6.203125 \r\nQ 37.3125 6.203125 41.140625 7.25 \r\nQ 44.96875 8.296875 48.78125 10.40625 \r\nL 48.78125 2.09375 \r\nQ 45.015625 0.34375 40.984375 -0.53125 \r\nQ 36.96875 -1.421875 32.421875 -1.421875 \r\nQ 20.0625 -1.421875 12.78125 6.34375 \r\nQ 5.515625 14.109375 5.515625 27.296875 \r\nQ 5.515625 40.671875 12.859375 48.328125 \r\nQ 20.21875 56 33.015625 56 \r\nQ 37.15625 56 41.109375 55.140625 \r\nQ 45.0625 54.296875 48.78125 52.59375 \r\nz\r\n\" id=\"DejaVuSans-99\"/>\r\n       <path d=\"M 30.609375 48.390625 \r\nQ 23.390625 48.390625 19.1875 42.75 \r\nQ 14.984375 37.109375 14.984375 27.296875 \r\nQ 14.984375 17.484375 19.15625 11.84375 \r\nQ 23.34375 6.203125 30.609375 6.203125 \r\nQ 37.796875 6.203125 41.984375 11.859375 \r\nQ 46.1875 17.53125 46.1875 27.296875 \r\nQ 46.1875 37.015625 41.984375 42.703125 \r\nQ 37.796875 48.390625 30.609375 48.390625 \r\nz\r\nM 30.609375 56 \r\nQ 42.328125 56 49.015625 48.375 \r\nQ 55.71875 40.765625 55.71875 27.296875 \r\nQ 55.71875 13.875 49.015625 6.21875 \r\nQ 42.328125 -1.421875 30.609375 -1.421875 \r\nQ 18.84375 -1.421875 12.171875 6.21875 \r\nQ 5.515625 13.875 5.515625 27.296875 \r\nQ 5.515625 40.765625 12.171875 48.375 \r\nQ 18.84375 56 30.609375 56 \r\nz\r\n\" id=\"DejaVuSans-111\"/>\r\n      </defs>\r\n      <use xlink:href=\"#DejaVuSans-82\"/>\r\n      <use x=\"65.482422\" xlink:href=\"#DejaVuSans-45\"/>\r\n      <use x=\"101.566406\" xlink:href=\"#DejaVuSans-115\"/>\r\n      <use x=\"153.666016\" xlink:href=\"#DejaVuSans-113\"/>\r\n      <use x=\"217.142578\" xlink:href=\"#DejaVuSans-117\"/>\r\n      <use x=\"280.521484\" xlink:href=\"#DejaVuSans-97\"/>\r\n      <use x=\"341.800781\" xlink:href=\"#DejaVuSans-114\"/>\r\n      <use x=\"380.664062\" xlink:href=\"#DejaVuSans-101\"/>\r\n      <use x=\"442.1875\" xlink:href=\"#DejaVuSans-100\"/>\r\n      <use x=\"505.664062\" xlink:href=\"#DejaVuSans-32\"/>\r\n      <use x=\"537.451172\" xlink:href=\"#DejaVuSans-115\"/>\r\n      <use x=\"589.550781\" xlink:href=\"#DejaVuSans-99\"/>\r\n      <use x=\"644.53125\" xlink:href=\"#DejaVuSans-111\"/>\r\n      <use x=\"705.712891\" xlink:href=\"#DejaVuSans-114\"/>\r\n      <use x=\"744.576172\" xlink:href=\"#DejaVuSans-101\"/>\r\n     </g>\r\n    </g>\r\n   </g>\r\n   <g id=\"matplotlib.axis_2\">\r\n    <g id=\"ytick_1\">\r\n     <g id=\"text_11\">\r\n      <!-- SGDRegressor -->\r\n      <g transform=\"translate(72.620312 217.20098)scale(0.1 -0.1)\">\r\n       <defs>\r\n        <path d=\"M 53.515625 70.515625 \r\nL 53.515625 60.890625 \r\nQ 47.90625 63.578125 42.921875 64.890625 \r\nQ 37.9375 66.21875 33.296875 66.21875 \r\nQ 25.25 66.21875 20.875 63.09375 \r\nQ 16.5 59.96875 16.5 54.203125 \r\nQ 16.5 49.359375 19.40625 46.890625 \r\nQ 22.3125 44.4375 30.421875 42.921875 \r\nL 36.375 41.703125 \r\nQ 47.40625 39.59375 52.65625 34.296875 \r\nQ 57.90625 29 57.90625 20.125 \r\nQ 57.90625 9.515625 50.796875 4.046875 \r\nQ 43.703125 -1.421875 29.984375 -1.421875 \r\nQ 24.8125 -1.421875 18.96875 -0.25 \r\nQ 13.140625 0.921875 6.890625 3.21875 \r\nL 6.890625 13.375 \r\nQ 12.890625 10.015625 18.65625 8.296875 \r\nQ 24.421875 6.59375 29.984375 6.59375 \r\nQ 38.421875 6.59375 43.015625 9.90625 \r\nQ 47.609375 13.234375 47.609375 19.390625 \r\nQ 47.609375 24.75 44.3125 27.78125 \r\nQ 41.015625 30.8125 33.5 32.328125 \r\nL 27.484375 33.5 \r\nQ 16.453125 35.6875 11.515625 40.375 \r\nQ 6.59375 45.0625 6.59375 53.421875 \r\nQ 6.59375 63.09375 13.40625 68.65625 \r\nQ 20.21875 74.21875 32.171875 74.21875 \r\nQ 37.3125 74.21875 42.625 73.28125 \r\nQ 47.953125 72.359375 53.515625 70.515625 \r\nz\r\n\" id=\"DejaVuSans-83\"/>\r\n        <path d=\"M 59.515625 10.40625 \r\nL 59.515625 29.984375 \r\nL 43.40625 29.984375 \r\nL 43.40625 38.09375 \r\nL 69.28125 38.09375 \r\nL 69.28125 6.78125 \r\nQ 63.578125 2.734375 56.6875 0.65625 \r\nQ 49.8125 -1.421875 42 -1.421875 \r\nQ 24.90625 -1.421875 15.25 8.5625 \r\nQ 5.609375 18.5625 5.609375 36.375 \r\nQ 5.609375 54.25 15.25 64.234375 \r\nQ 24.90625 74.21875 42 74.21875 \r\nQ 49.125 74.21875 55.546875 72.453125 \r\nQ 61.96875 70.703125 67.390625 67.28125 \r\nL 67.390625 56.78125 \r\nQ 61.921875 61.421875 55.765625 63.765625 \r\nQ 49.609375 66.109375 42.828125 66.109375 \r\nQ 29.4375 66.109375 22.71875 58.640625 \r\nQ 16.015625 51.171875 16.015625 36.375 \r\nQ 16.015625 21.625 22.71875 14.15625 \r\nQ 29.4375 6.6875 42.828125 6.6875 \r\nQ 48.046875 6.6875 52.140625 7.59375 \r\nQ 56.25 8.5 59.515625 10.40625 \r\nz\r\n\" id=\"DejaVuSans-71\"/>\r\n        <path d=\"M 19.671875 64.796875 \r\nL 19.671875 8.109375 \r\nL 31.59375 8.109375 \r\nQ 46.6875 8.109375 53.6875 14.9375 \r\nQ 60.6875 21.78125 60.6875 36.53125 \r\nQ 60.6875 51.171875 53.6875 57.984375 \r\nQ 46.6875 64.796875 31.59375 64.796875 \r\nz\r\nM 9.8125 72.90625 \r\nL 30.078125 72.90625 \r\nQ 51.265625 72.90625 61.171875 64.09375 \r\nQ 71.09375 55.28125 71.09375 36.53125 \r\nQ 71.09375 17.671875 61.125 8.828125 \r\nQ 51.171875 0 30.078125 0 \r\nL 9.8125 0 \r\nz\r\n\" id=\"DejaVuSans-68\"/>\r\n        <path d=\"M 45.40625 27.984375 \r\nQ 45.40625 37.75 41.375 43.109375 \r\nQ 37.359375 48.484375 30.078125 48.484375 \r\nQ 22.859375 48.484375 18.828125 43.109375 \r\nQ 14.796875 37.75 14.796875 27.984375 \r\nQ 14.796875 18.265625 18.828125 12.890625 \r\nQ 22.859375 7.515625 30.078125 7.515625 \r\nQ 37.359375 7.515625 41.375 12.890625 \r\nQ 45.40625 18.265625 45.40625 27.984375 \r\nz\r\nM 54.390625 6.78125 \r\nQ 54.390625 -7.171875 48.1875 -13.984375 \r\nQ 42 -20.796875 29.203125 -20.796875 \r\nQ 24.46875 -20.796875 20.265625 -20.09375 \r\nQ 16.0625 -19.390625 12.109375 -17.921875 \r\nL 12.109375 -9.1875 \r\nQ 16.0625 -11.328125 19.921875 -12.34375 \r\nQ 23.78125 -13.375 27.78125 -13.375 \r\nQ 36.625 -13.375 41.015625 -8.765625 \r\nQ 45.40625 -4.15625 45.40625 5.171875 \r\nL 45.40625 9.625 \r\nQ 42.625 4.78125 38.28125 2.390625 \r\nQ 33.9375 0 27.875 0 \r\nQ 17.828125 0 11.671875 7.65625 \r\nQ 5.515625 15.328125 5.515625 27.984375 \r\nQ 5.515625 40.671875 11.671875 48.328125 \r\nQ 17.828125 56 27.875 56 \r\nQ 33.9375 56 38.28125 53.609375 \r\nQ 42.625 51.21875 45.40625 46.390625 \r\nL 45.40625 54.6875 \r\nL 54.390625 54.6875 \r\nz\r\n\" id=\"DejaVuSans-103\"/>\r\n       </defs>\r\n       <use xlink:href=\"#DejaVuSans-83\"/>\r\n       <use x=\"63.476562\" xlink:href=\"#DejaVuSans-71\"/>\r\n       <use x=\"140.966797\" xlink:href=\"#DejaVuSans-68\"/>\r\n       <use x=\"217.96875\" xlink:href=\"#DejaVuSans-82\"/>\r\n       <use x=\"282.951172\" xlink:href=\"#DejaVuSans-101\"/>\r\n       <use x=\"344.474609\" xlink:href=\"#DejaVuSans-103\"/>\r\n       <use x=\"407.951172\" xlink:href=\"#DejaVuSans-114\"/>\r\n       <use x=\"446.814453\" xlink:href=\"#DejaVuSans-101\"/>\r\n       <use x=\"508.337891\" xlink:href=\"#DejaVuSans-115\"/>\r\n       <use x=\"560.4375\" xlink:href=\"#DejaVuSans-115\"/>\r\n       <use x=\"612.537109\" xlink:href=\"#DejaVuSans-111\"/>\r\n       <use x=\"673.71875\" xlink:href=\"#DejaVuSans-114\"/>\r\n      </g>\r\n     </g>\r\n    </g>\r\n    <g id=\"ytick_2\">\r\n     <g id=\"text_12\">\r\n      <!-- GradientBoostingRegressor -->\r\n      <g transform=\"translate(7.2 176.019162)scale(0.1 -0.1)\">\r\n       <defs>\r\n        <path d=\"M 9.421875 54.6875 \r\nL 18.40625 54.6875 \r\nL 18.40625 0 \r\nL 9.421875 0 \r\nz\r\nM 9.421875 75.984375 \r\nL 18.40625 75.984375 \r\nL 18.40625 64.59375 \r\nL 9.421875 64.59375 \r\nz\r\n\" id=\"DejaVuSans-105\"/>\r\n        <path d=\"M 54.890625 33.015625 \r\nL 54.890625 0 \r\nL 45.90625 0 \r\nL 45.90625 32.71875 \r\nQ 45.90625 40.484375 42.875 44.328125 \r\nQ 39.84375 48.1875 33.796875 48.1875 \r\nQ 26.515625 48.1875 22.3125 43.546875 \r\nQ 18.109375 38.921875 18.109375 30.90625 \r\nL 18.109375 0 \r\nL 9.078125 0 \r\nL 9.078125 54.6875 \r\nL 18.109375 54.6875 \r\nL 18.109375 46.1875 \r\nQ 21.34375 51.125 25.703125 53.5625 \r\nQ 30.078125 56 35.796875 56 \r\nQ 45.21875 56 50.046875 50.171875 \r\nQ 54.890625 44.34375 54.890625 33.015625 \r\nz\r\n\" id=\"DejaVuSans-110\"/>\r\n        <path d=\"M 18.3125 70.21875 \r\nL 18.3125 54.6875 \r\nL 36.8125 54.6875 \r\nL 36.8125 47.703125 \r\nL 18.3125 47.703125 \r\nL 18.3125 18.015625 \r\nQ 18.3125 11.328125 20.140625 9.421875 \r\nQ 21.96875 7.515625 27.59375 7.515625 \r\nL 36.8125 7.515625 \r\nL 36.8125 0 \r\nL 27.59375 0 \r\nQ 17.1875 0 13.234375 3.875 \r\nQ 9.28125 7.765625 9.28125 18.015625 \r\nL 9.28125 47.703125 \r\nL 2.6875 47.703125 \r\nL 2.6875 54.6875 \r\nL 9.28125 54.6875 \r\nL 9.28125 70.21875 \r\nz\r\n\" id=\"DejaVuSans-116\"/>\r\n        <path d=\"M 19.671875 34.8125 \r\nL 19.671875 8.109375 \r\nL 35.5 8.109375 \r\nQ 43.453125 8.109375 47.28125 11.40625 \r\nQ 51.125 14.703125 51.125 21.484375 \r\nQ 51.125 28.328125 47.28125 31.5625 \r\nQ 43.453125 34.8125 35.5 34.8125 \r\nz\r\nM 19.671875 64.796875 \r\nL 19.671875 42.828125 \r\nL 34.28125 42.828125 \r\nQ 41.5 42.828125 45.03125 45.53125 \r\nQ 48.578125 48.25 48.578125 53.8125 \r\nQ 48.578125 59.328125 45.03125 62.0625 \r\nQ 41.5 64.796875 34.28125 64.796875 \r\nz\r\nM 9.8125 72.90625 \r\nL 35.015625 72.90625 \r\nQ 46.296875 72.90625 52.390625 68.21875 \r\nQ 58.5 63.53125 58.5 54.890625 \r\nQ 58.5 48.1875 55.375 44.234375 \r\nQ 52.25 40.28125 46.1875 39.3125 \r\nQ 53.46875 37.75 57.5 32.78125 \r\nQ 61.53125 27.828125 61.53125 20.40625 \r\nQ 61.53125 10.640625 54.890625 5.3125 \r\nQ 48.25 0 35.984375 0 \r\nL 9.8125 0 \r\nz\r\n\" id=\"DejaVuSans-66\"/>\r\n       </defs>\r\n       <use xlink:href=\"#DejaVuSans-71\"/>\r\n       <use x=\"77.490234\" xlink:href=\"#DejaVuSans-114\"/>\r\n       <use x=\"118.603516\" xlink:href=\"#DejaVuSans-97\"/>\r\n       <use x=\"179.882812\" xlink:href=\"#DejaVuSans-100\"/>\r\n       <use x=\"243.359375\" xlink:href=\"#DejaVuSans-105\"/>\r\n       <use x=\"271.142578\" xlink:href=\"#DejaVuSans-101\"/>\r\n       <use x=\"332.666016\" xlink:href=\"#DejaVuSans-110\"/>\r\n       <use x=\"396.044922\" xlink:href=\"#DejaVuSans-116\"/>\r\n       <use x=\"435.253906\" xlink:href=\"#DejaVuSans-66\"/>\r\n       <use x=\"503.857422\" xlink:href=\"#DejaVuSans-111\"/>\r\n       <use x=\"565.039062\" xlink:href=\"#DejaVuSans-111\"/>\r\n       <use x=\"626.220703\" xlink:href=\"#DejaVuSans-115\"/>\r\n       <use x=\"678.320312\" xlink:href=\"#DejaVuSans-116\"/>\r\n       <use x=\"717.529297\" xlink:href=\"#DejaVuSans-105\"/>\r\n       <use x=\"745.3125\" xlink:href=\"#DejaVuSans-110\"/>\r\n       <use x=\"808.691406\" xlink:href=\"#DejaVuSans-103\"/>\r\n       <use x=\"872.167969\" xlink:href=\"#DejaVuSans-82\"/>\r\n       <use x=\"937.150391\" xlink:href=\"#DejaVuSans-101\"/>\r\n       <use x=\"998.673828\" xlink:href=\"#DejaVuSans-103\"/>\r\n       <use x=\"1062.150391\" xlink:href=\"#DejaVuSans-114\"/>\r\n       <use x=\"1101.013672\" xlink:href=\"#DejaVuSans-101\"/>\r\n       <use x=\"1162.537109\" xlink:href=\"#DejaVuSans-115\"/>\r\n       <use x=\"1214.636719\" xlink:href=\"#DejaVuSans-115\"/>\r\n       <use x=\"1266.736328\" xlink:href=\"#DejaVuSans-111\"/>\r\n       <use x=\"1327.917969\" xlink:href=\"#DejaVuSans-114\"/>\r\n      </g>\r\n     </g>\r\n    </g>\r\n    <g id=\"ytick_3\">\r\n     <g id=\"text_13\">\r\n      <!-- LinearRegression -->\r\n      <g transform=\"translate(58.332812 134.837344)scale(0.1 -0.1)\">\r\n       <defs>\r\n        <path d=\"M 9.8125 72.90625 \r\nL 19.671875 72.90625 \r\nL 19.671875 8.296875 \r\nL 55.171875 8.296875 \r\nL 55.171875 0 \r\nL 9.8125 0 \r\nz\r\n\" id=\"DejaVuSans-76\"/>\r\n       </defs>\r\n       <use xlink:href=\"#DejaVuSans-76\"/>\r\n       <use x=\"55.712891\" xlink:href=\"#DejaVuSans-105\"/>\r\n       <use x=\"83.496094\" xlink:href=\"#DejaVuSans-110\"/>\r\n       <use x=\"146.875\" xlink:href=\"#DejaVuSans-101\"/>\r\n       <use x=\"208.398438\" xlink:href=\"#DejaVuSans-97\"/>\r\n       <use x=\"269.677734\" xlink:href=\"#DejaVuSans-114\"/>\r\n       <use x=\"310.791016\" xlink:href=\"#DejaVuSans-82\"/>\r\n       <use x=\"375.773438\" xlink:href=\"#DejaVuSans-101\"/>\r\n       <use x=\"437.296875\" xlink:href=\"#DejaVuSans-103\"/>\r\n       <use x=\"500.773438\" xlink:href=\"#DejaVuSans-114\"/>\r\n       <use x=\"539.636719\" xlink:href=\"#DejaVuSans-101\"/>\r\n       <use x=\"601.160156\" xlink:href=\"#DejaVuSans-115\"/>\r\n       <use x=\"653.259766\" xlink:href=\"#DejaVuSans-115\"/>\r\n       <use x=\"705.359375\" xlink:href=\"#DejaVuSans-105\"/>\r\n       <use x=\"733.142578\" xlink:href=\"#DejaVuSans-111\"/>\r\n       <use x=\"794.324219\" xlink:href=\"#DejaVuSans-110\"/>\r\n      </g>\r\n     </g>\r\n    </g>\r\n    <g id=\"ytick_4\">\r\n     <g id=\"text_14\">\r\n      <!-- KNeighborsRegressor -->\r\n      <g transform=\"translate(36.973437 93.655526)scale(0.1 -0.1)\">\r\n       <defs>\r\n        <path d=\"M 9.8125 72.90625 \r\nL 19.671875 72.90625 \r\nL 19.671875 42.09375 \r\nL 52.390625 72.90625 \r\nL 65.09375 72.90625 \r\nL 28.90625 38.921875 \r\nL 67.671875 0 \r\nL 54.6875 0 \r\nL 19.671875 35.109375 \r\nL 19.671875 0 \r\nL 9.8125 0 \r\nz\r\n\" id=\"DejaVuSans-75\"/>\r\n        <path d=\"M 9.8125 72.90625 \r\nL 23.09375 72.90625 \r\nL 55.421875 11.921875 \r\nL 55.421875 72.90625 \r\nL 64.984375 72.90625 \r\nL 64.984375 0 \r\nL 51.703125 0 \r\nL 19.390625 60.984375 \r\nL 19.390625 0 \r\nL 9.8125 0 \r\nz\r\n\" id=\"DejaVuSans-78\"/>\r\n        <path d=\"M 54.890625 33.015625 \r\nL 54.890625 0 \r\nL 45.90625 0 \r\nL 45.90625 32.71875 \r\nQ 45.90625 40.484375 42.875 44.328125 \r\nQ 39.84375 48.1875 33.796875 48.1875 \r\nQ 26.515625 48.1875 22.3125 43.546875 \r\nQ 18.109375 38.921875 18.109375 30.90625 \r\nL 18.109375 0 \r\nL 9.078125 0 \r\nL 9.078125 75.984375 \r\nL 18.109375 75.984375 \r\nL 18.109375 46.1875 \r\nQ 21.34375 51.125 25.703125 53.5625 \r\nQ 30.078125 56 35.796875 56 \r\nQ 45.21875 56 50.046875 50.171875 \r\nQ 54.890625 44.34375 54.890625 33.015625 \r\nz\r\n\" id=\"DejaVuSans-104\"/>\r\n        <path d=\"M 48.6875 27.296875 \r\nQ 48.6875 37.203125 44.609375 42.84375 \r\nQ 40.53125 48.484375 33.40625 48.484375 \r\nQ 26.265625 48.484375 22.1875 42.84375 \r\nQ 18.109375 37.203125 18.109375 27.296875 \r\nQ 18.109375 17.390625 22.1875 11.75 \r\nQ 26.265625 6.109375 33.40625 6.109375 \r\nQ 40.53125 6.109375 44.609375 11.75 \r\nQ 48.6875 17.390625 48.6875 27.296875 \r\nz\r\nM 18.109375 46.390625 \r\nQ 20.953125 51.265625 25.265625 53.625 \r\nQ 29.59375 56 35.59375 56 \r\nQ 45.5625 56 51.78125 48.09375 \r\nQ 58.015625 40.1875 58.015625 27.296875 \r\nQ 58.015625 14.40625 51.78125 6.484375 \r\nQ 45.5625 -1.421875 35.59375 -1.421875 \r\nQ 29.59375 -1.421875 25.265625 0.953125 \r\nQ 20.953125 3.328125 18.109375 8.203125 \r\nL 18.109375 0 \r\nL 9.078125 0 \r\nL 9.078125 75.984375 \r\nL 18.109375 75.984375 \r\nz\r\n\" id=\"DejaVuSans-98\"/>\r\n       </defs>\r\n       <use xlink:href=\"#DejaVuSans-75\"/>\r\n       <use x=\"65.576172\" xlink:href=\"#DejaVuSans-78\"/>\r\n       <use x=\"140.380859\" xlink:href=\"#DejaVuSans-101\"/>\r\n       <use x=\"201.904297\" xlink:href=\"#DejaVuSans-105\"/>\r\n       <use x=\"229.6875\" xlink:href=\"#DejaVuSans-103\"/>\r\n       <use x=\"293.164062\" xlink:href=\"#DejaVuSans-104\"/>\r\n       <use x=\"356.542969\" xlink:href=\"#DejaVuSans-98\"/>\r\n       <use x=\"420.019531\" xlink:href=\"#DejaVuSans-111\"/>\r\n       <use x=\"481.201172\" xlink:href=\"#DejaVuSans-114\"/>\r\n       <use x=\"522.314453\" xlink:href=\"#DejaVuSans-115\"/>\r\n       <use x=\"574.414062\" xlink:href=\"#DejaVuSans-82\"/>\r\n       <use x=\"639.396484\" xlink:href=\"#DejaVuSans-101\"/>\r\n       <use x=\"700.919922\" xlink:href=\"#DejaVuSans-103\"/>\r\n       <use x=\"764.396484\" xlink:href=\"#DejaVuSans-114\"/>\r\n       <use x=\"803.259766\" xlink:href=\"#DejaVuSans-101\"/>\r\n       <use x=\"864.783203\" xlink:href=\"#DejaVuSans-115\"/>\r\n       <use x=\"916.882812\" xlink:href=\"#DejaVuSans-115\"/>\r\n       <use x=\"968.982422\" xlink:href=\"#DejaVuSans-111\"/>\r\n       <use x=\"1030.164062\" xlink:href=\"#DejaVuSans-114\"/>\r\n      </g>\r\n     </g>\r\n    </g>\r\n    <g id=\"ytick_5\">\r\n     <g id=\"text_15\">\r\n      <!-- RandomForestRegressor -->\r\n      <g transform=\"translate(22.34375 52.473707)scale(0.1 -0.1)\">\r\n       <defs>\r\n        <path d=\"M 52 44.1875 \r\nQ 55.375 50.25 60.0625 53.125 \r\nQ 64.75 56 71.09375 56 \r\nQ 79.640625 56 84.28125 50.015625 \r\nQ 88.921875 44.046875 88.921875 33.015625 \r\nL 88.921875 0 \r\nL 79.890625 0 \r\nL 79.890625 32.71875 \r\nQ 79.890625 40.578125 77.09375 44.375 \r\nQ 74.3125 48.1875 68.609375 48.1875 \r\nQ 61.625 48.1875 57.5625 43.546875 \r\nQ 53.515625 38.921875 53.515625 30.90625 \r\nL 53.515625 0 \r\nL 44.484375 0 \r\nL 44.484375 32.71875 \r\nQ 44.484375 40.625 41.703125 44.40625 \r\nQ 38.921875 48.1875 33.109375 48.1875 \r\nQ 26.21875 48.1875 22.15625 43.53125 \r\nQ 18.109375 38.875 18.109375 30.90625 \r\nL 18.109375 0 \r\nL 9.078125 0 \r\nL 9.078125 54.6875 \r\nL 18.109375 54.6875 \r\nL 18.109375 46.1875 \r\nQ 21.1875 51.21875 25.484375 53.609375 \r\nQ 29.78125 56 35.6875 56 \r\nQ 41.65625 56 45.828125 52.96875 \r\nQ 50 49.953125 52 44.1875 \r\nz\r\n\" id=\"DejaVuSans-109\"/>\r\n        <path d=\"M 9.8125 72.90625 \r\nL 51.703125 72.90625 \r\nL 51.703125 64.59375 \r\nL 19.671875 64.59375 \r\nL 19.671875 43.109375 \r\nL 48.578125 43.109375 \r\nL 48.578125 34.8125 \r\nL 19.671875 34.8125 \r\nL 19.671875 0 \r\nL 9.8125 0 \r\nz\r\n\" id=\"DejaVuSans-70\"/>\r\n       </defs>\r\n       <use xlink:href=\"#DejaVuSans-82\"/>\r\n       <use x=\"67.232422\" xlink:href=\"#DejaVuSans-97\"/>\r\n       <use x=\"128.511719\" xlink:href=\"#DejaVuSans-110\"/>\r\n       <use x=\"191.890625\" xlink:href=\"#DejaVuSans-100\"/>\r\n       <use x=\"255.367188\" xlink:href=\"#DejaVuSans-111\"/>\r\n       <use x=\"316.548828\" xlink:href=\"#DejaVuSans-109\"/>\r\n       <use x=\"413.960938\" xlink:href=\"#DejaVuSans-70\"/>\r\n       <use x=\"467.855469\" xlink:href=\"#DejaVuSans-111\"/>\r\n       <use x=\"529.037109\" xlink:href=\"#DejaVuSans-114\"/>\r\n       <use x=\"567.900391\" xlink:href=\"#DejaVuSans-101\"/>\r\n       <use x=\"629.423828\" xlink:href=\"#DejaVuSans-115\"/>\r\n       <use x=\"681.523438\" xlink:href=\"#DejaVuSans-116\"/>\r\n       <use x=\"720.732422\" xlink:href=\"#DejaVuSans-82\"/>\r\n       <use x=\"785.714844\" xlink:href=\"#DejaVuSans-101\"/>\r\n       <use x=\"847.238281\" xlink:href=\"#DejaVuSans-103\"/>\r\n       <use x=\"910.714844\" xlink:href=\"#DejaVuSans-114\"/>\r\n       <use x=\"949.578125\" xlink:href=\"#DejaVuSans-101\"/>\r\n       <use x=\"1011.101562\" xlink:href=\"#DejaVuSans-115\"/>\r\n       <use x=\"1063.201172\" xlink:href=\"#DejaVuSans-115\"/>\r\n       <use x=\"1115.300781\" xlink:href=\"#DejaVuSans-111\"/>\r\n       <use x=\"1176.482422\" xlink:href=\"#DejaVuSans-114\"/>\r\n      </g>\r\n     </g>\r\n    </g>\r\n   </g>\r\n   <g id=\"patch_8\">\r\n    <path d=\"M 151.104687 239.758125 \r\nL 151.104687 22.318125 \r\n\" style=\"fill:none;stroke:#000000;stroke-linecap:square;stroke-linejoin:miter;stroke-width:0.8;\"/>\r\n   </g>\r\n   <g id=\"patch_9\">\r\n    <path d=\"M 485.904687 239.758125 \r\nL 485.904687 22.318125 \r\n\" style=\"fill:none;stroke:#000000;stroke-linecap:square;stroke-linejoin:miter;stroke-width:0.8;\"/>\r\n   </g>\r\n   <g id=\"patch_10\">\r\n    <path d=\"M 151.104687 239.758125 \r\nL 485.904688 239.758125 \r\n\" style=\"fill:none;stroke:#000000;stroke-linecap:square;stroke-linejoin:miter;stroke-width:0.8;\"/>\r\n   </g>\r\n   <g id=\"patch_11\">\r\n    <path d=\"M 151.104687 22.318125 \r\nL 485.904688 22.318125 \r\n\" style=\"fill:none;stroke:#000000;stroke-linecap:square;stroke-linejoin:miter;stroke-width:0.8;\"/>\r\n   </g>\r\n   <g id=\"text_16\">\r\n    <!-- Comparison of Regression Models -->\r\n    <g transform=\"translate(217.119687 16.318125)scale(0.12 -0.12)\">\r\n     <defs>\r\n      <path d=\"M 64.40625 67.28125 \r\nL 64.40625 56.890625 \r\nQ 59.421875 61.53125 53.78125 63.8125 \r\nQ 48.140625 66.109375 41.796875 66.109375 \r\nQ 29.296875 66.109375 22.65625 58.46875 \r\nQ 16.015625 50.828125 16.015625 36.375 \r\nQ 16.015625 21.96875 22.65625 14.328125 \r\nQ 29.296875 6.6875 41.796875 6.6875 \r\nQ 48.140625 6.6875 53.78125 8.984375 \r\nQ 59.421875 11.28125 64.40625 15.921875 \r\nL 64.40625 5.609375 \r\nQ 59.234375 2.09375 53.4375 0.328125 \r\nQ 47.65625 -1.421875 41.21875 -1.421875 \r\nQ 24.65625 -1.421875 15.125 8.703125 \r\nQ 5.609375 18.84375 5.609375 36.375 \r\nQ 5.609375 53.953125 15.125 64.078125 \r\nQ 24.65625 74.21875 41.21875 74.21875 \r\nQ 47.75 74.21875 53.53125 72.484375 \r\nQ 59.328125 70.75 64.40625 67.28125 \r\nz\r\n\" id=\"DejaVuSans-67\"/>\r\n      <path d=\"M 18.109375 8.203125 \r\nL 18.109375 -20.796875 \r\nL 9.078125 -20.796875 \r\nL 9.078125 54.6875 \r\nL 18.109375 54.6875 \r\nL 18.109375 46.390625 \r\nQ 20.953125 51.265625 25.265625 53.625 \r\nQ 29.59375 56 35.59375 56 \r\nQ 45.5625 56 51.78125 48.09375 \r\nQ 58.015625 40.1875 58.015625 27.296875 \r\nQ 58.015625 14.40625 51.78125 6.484375 \r\nQ 45.5625 -1.421875 35.59375 -1.421875 \r\nQ 29.59375 -1.421875 25.265625 0.953125 \r\nQ 20.953125 3.328125 18.109375 8.203125 \r\nz\r\nM 48.6875 27.296875 \r\nQ 48.6875 37.203125 44.609375 42.84375 \r\nQ 40.53125 48.484375 33.40625 48.484375 \r\nQ 26.265625 48.484375 22.1875 42.84375 \r\nQ 18.109375 37.203125 18.109375 27.296875 \r\nQ 18.109375 17.390625 22.1875 11.75 \r\nQ 26.265625 6.109375 33.40625 6.109375 \r\nQ 40.53125 6.109375 44.609375 11.75 \r\nQ 48.6875 17.390625 48.6875 27.296875 \r\nz\r\n\" id=\"DejaVuSans-112\"/>\r\n      <path d=\"M 37.109375 75.984375 \r\nL 37.109375 68.5 \r\nL 28.515625 68.5 \r\nQ 23.6875 68.5 21.796875 66.546875 \r\nQ 19.921875 64.59375 19.921875 59.515625 \r\nL 19.921875 54.6875 \r\nL 34.71875 54.6875 \r\nL 34.71875 47.703125 \r\nL 19.921875 47.703125 \r\nL 19.921875 0 \r\nL 10.890625 0 \r\nL 10.890625 47.703125 \r\nL 2.296875 47.703125 \r\nL 2.296875 54.6875 \r\nL 10.890625 54.6875 \r\nL 10.890625 58.5 \r\nQ 10.890625 67.625 15.140625 71.796875 \r\nQ 19.390625 75.984375 28.609375 75.984375 \r\nz\r\n\" id=\"DejaVuSans-102\"/>\r\n      <path d=\"M 9.8125 72.90625 \r\nL 24.515625 72.90625 \r\nL 43.109375 23.296875 \r\nL 61.8125 72.90625 \r\nL 76.515625 72.90625 \r\nL 76.515625 0 \r\nL 66.890625 0 \r\nL 66.890625 64.015625 \r\nL 48.09375 14.015625 \r\nL 38.1875 14.015625 \r\nL 19.390625 64.015625 \r\nL 19.390625 0 \r\nL 9.8125 0 \r\nz\r\n\" id=\"DejaVuSans-77\"/>\r\n      <path d=\"M 9.421875 75.984375 \r\nL 18.40625 75.984375 \r\nL 18.40625 0 \r\nL 9.421875 0 \r\nz\r\n\" id=\"DejaVuSans-108\"/>\r\n     </defs>\r\n     <use xlink:href=\"#DejaVuSans-67\"/>\r\n     <use x=\"69.824219\" xlink:href=\"#DejaVuSans-111\"/>\r\n     <use x=\"131.005859\" xlink:href=\"#DejaVuSans-109\"/>\r\n     <use x=\"228.417969\" xlink:href=\"#DejaVuSans-112\"/>\r\n     <use x=\"291.894531\" xlink:href=\"#DejaVuSans-97\"/>\r\n     <use x=\"353.173828\" xlink:href=\"#DejaVuSans-114\"/>\r\n     <use x=\"394.287109\" xlink:href=\"#DejaVuSans-105\"/>\r\n     <use x=\"422.070312\" xlink:href=\"#DejaVuSans-115\"/>\r\n     <use x=\"474.169922\" xlink:href=\"#DejaVuSans-111\"/>\r\n     <use x=\"535.351562\" xlink:href=\"#DejaVuSans-110\"/>\r\n     <use x=\"598.730469\" xlink:href=\"#DejaVuSans-32\"/>\r\n     <use x=\"630.517578\" xlink:href=\"#DejaVuSans-111\"/>\r\n     <use x=\"691.699219\" xlink:href=\"#DejaVuSans-102\"/>\r\n     <use x=\"726.904297\" xlink:href=\"#DejaVuSans-32\"/>\r\n     <use x=\"758.691406\" xlink:href=\"#DejaVuSans-82\"/>\r\n     <use x=\"823.673828\" xlink:href=\"#DejaVuSans-101\"/>\r\n     <use x=\"885.197266\" xlink:href=\"#DejaVuSans-103\"/>\r\n     <use x=\"948.673828\" xlink:href=\"#DejaVuSans-114\"/>\r\n     <use x=\"987.537109\" xlink:href=\"#DejaVuSans-101\"/>\r\n     <use x=\"1049.060547\" xlink:href=\"#DejaVuSans-115\"/>\r\n     <use x=\"1101.160156\" xlink:href=\"#DejaVuSans-115\"/>\r\n     <use x=\"1153.259766\" xlink:href=\"#DejaVuSans-105\"/>\r\n     <use x=\"1181.042969\" xlink:href=\"#DejaVuSans-111\"/>\r\n     <use x=\"1242.224609\" xlink:href=\"#DejaVuSans-110\"/>\r\n     <use x=\"1305.603516\" xlink:href=\"#DejaVuSans-32\"/>\r\n     <use x=\"1337.390625\" xlink:href=\"#DejaVuSans-77\"/>\r\n     <use x=\"1423.669922\" xlink:href=\"#DejaVuSans-111\"/>\r\n     <use x=\"1484.851562\" xlink:href=\"#DejaVuSans-100\"/>\r\n     <use x=\"1548.328125\" xlink:href=\"#DejaVuSans-101\"/>\r\n     <use x=\"1609.851562\" xlink:href=\"#DejaVuSans-108\"/>\r\n     <use x=\"1637.634766\" xlink:href=\"#DejaVuSans-115\"/>\r\n    </g>\r\n   </g>\r\n  </g>\r\n </g>\r\n <defs>\r\n  <clipPath id=\"p38ff8d8799\">\r\n   <rect height=\"217.44\" width=\"334.8\" x=\"151.104687\" y=\"22.318125\"/>\r\n  </clipPath>\r\n </defs>\r\n</svg>\r\n",
      "image/png": "[encoded data removed]"
     },
     "metadata": {
      "needs_background": "light"
     }
    }
   ],
   "source": [
    "# R2 score results\n",
    "fig, ax = plt.subplots()\n",
    "ind = range(len(results))\n",
    "ax.barh(ind, list(results.values()), align='center', \n",
    "        color = '#55a868', alpha=0.8)\n",
    "ax.set_yticks(ind)\n",
    "ax.set_yticklabels(results.keys())\n",
    "ax.set_xlabel('R-squared score')\n",
    "ax.tick_params(left=False, top=False, right=False) \n",
    "ax.set_title('Comparison of Regression Models')\n",
    "fig.savefig('images/compare_models.png', bbox_inches = 'tight')"
   ]
  },
  {
   "cell_type": "code",
   "execution_count": null,
   "metadata": {},
   "outputs": [],
   "source": [
    "The GradientBoostingRegressor has the best R2 score of ~13% so we focus on refining this particular model."
   ]
  },
  {
   "cell_type": "code",
   "execution_count": null,
   "metadata": {},
   "outputs": [],
   "source": [
    "# GradientBoostingRegressor will be used as the In-Hospit6al mortality prediction model\n",
    "reg_model = GradientBoostingRegressor(random_state=0)   \n",
    "reg_model.fit(X_train, y_train)\n",
    "y_valid_preds = reg_model.predict(X_valid)\n",
    "r2_not_refined = r2_score(y_valid, y_valid_preds)\n",
    "print(\"R2 score is: {:2f}\".format(r2_not_refined))"
   ]
  },
  {
   "source": [
    "## 7. Parameter Tuning"
   ],
   "cell_type": "markdown",
   "metadata": {}
  },
  {
   "source": [
    "To refine the GradientBoostingRegressor model, GridSearchCV function from scikit-learnis used to test out various permutations of parameters such as n_estimators, max_depth, and loss.\n",
    "\n",
    "What is GridSearchCV and in general how it works? TO DO"
   ],
   "cell_type": "markdown",
   "metadata": {}
  },
  {
   "source": [
    "## Calculate Performance Metrics\n"
   ],
   "cell_type": "markdown",
   "metadata": {}
  },
  {
   "cell_type": "code",
   "execution_count": 103,
   "metadata": {},
   "outputs": [],
   "source": [
    "def calc_accuracy(y_actual, y_pred, thresh):\n",
    "    # this function calculates the accuracy with probability threshold at thresh\n",
    "    return (sum((y_pred > thresh) & (y_actual == 1))+sum((y_pred < thresh) & (y_actual == 0))) /len(y_actual)\n",
    "\n",
    "def calc_recall(y_actual, y_pred, thresh):\n",
    "    # calculates the recall\n",
    "    return sum((y_pred > thresh) & (y_actual == 1)) /sum(y_actual)\n",
    "\n",
    "def calc_precision(y_actual, y_pred, thresh):\n",
    "    # calculates the precision\n",
    "    return sum((y_pred > thresh) & (y_actual == 1)) /sum(y_pred > thresh)\n",
    "\n",
    "def calc_specificity(y_actual, y_pred, thresh):\n",
    "    # calculates specificity\n",
    "    return sum((y_pred < thresh) & (y_actual == 0)) /sum(y_actual ==0)"
   ]
  },
  {
   "source": [
    "So why are precision and recall even needed? They’re mostly useful in situations where the true class labels are highly skewed. For example, in our case we have training data with most of the entries that belong to 0 class (not-dead-at-the hospital) which is a good thing, but for what concerns the performance metric we can get 95% accuracy by just predicting class 0 for every entry.\n",
    "\n",
    "With skewed data, if you just guess one class or the other, you can get excellent accuracy but either precision or recall will be very poor.\n",
    "\n",
    "It’s standard practice to set a threshold value of 0.5 and then a result value that’s less than 0.5 is a prediction of class 0, and a result value that’s greater than 0.5 is a prediction of class 1.\n",
    "\n",
    "We can adjust the accuracy of a binary classification model by adjusting the value of the threshold. For example, in our case if we set the threshold to something like 0.9 then most result values will be less than 0.9 and so most predictions will be class 0 and we’ll get good accuracy. But again, either precision or recall will be poor."
   ],
   "cell_type": "markdown",
   "metadata": {}
  },
  {
   "cell_type": "code",
   "execution_count": 101,
   "metadata": {},
   "outputs": [
    {
     "output_type": "error",
     "ename": "ValueError",
     "evalue": "Found input variables with inconsistent numbers of samples: [268205, 7882]",
     "traceback": [
      "\u001b[1;31m---------------------------------------------------------------------------\u001b[0m",
      "\u001b[1;31mValueError\u001b[0m                                Traceback (most recent call last)",
      "\u001b[1;32m<ipython-input-101-20c43cf0b5f1>\u001b[0m in \u001b[0;36m<module>\u001b[1;34m\u001b[0m\n\u001b[0;32m      2\u001b[0m \u001b[1;32mfrom\u001b[0m \u001b[0msklearn\u001b[0m\u001b[1;33m.\u001b[0m\u001b[0mmetrics\u001b[0m \u001b[1;32mimport\u001b[0m \u001b[0mroc_auc_score\u001b[0m\u001b[1;33m\u001b[0m\u001b[1;33m\u001b[0m\u001b[0m\n\u001b[0;32m      3\u001b[0m \u001b[1;33m\u001b[0m\u001b[0m\n\u001b[1;32m----> 4\u001b[1;33m \u001b[0mfpr_train\u001b[0m\u001b[1;33m,\u001b[0m \u001b[0mtpr_train\u001b[0m\u001b[1;33m,\u001b[0m \u001b[0mthresholds_train\u001b[0m \u001b[1;33m=\u001b[0m \u001b[0mroc_curve\u001b[0m\u001b[1;33m(\u001b[0m\u001b[0my_train\u001b[0m\u001b[1;33m,\u001b[0m \u001b[0my_train_preds\u001b[0m\u001b[1;33m)\u001b[0m\u001b[1;33m\u001b[0m\u001b[1;33m\u001b[0m\u001b[0m\n\u001b[0m\u001b[0;32m      5\u001b[0m \u001b[0mfpr_valid\u001b[0m\u001b[1;33m,\u001b[0m \u001b[0mtpr_valid\u001b[0m\u001b[1;33m,\u001b[0m \u001b[0mthresholds_valid\u001b[0m \u001b[1;33m=\u001b[0m \u001b[0mroc_curve\u001b[0m\u001b[1;33m(\u001b[0m\u001b[0my_valid\u001b[0m\u001b[1;33m,\u001b[0m \u001b[0my_valid_preds\u001b[0m\u001b[1;33m)\u001b[0m\u001b[1;33m\u001b[0m\u001b[1;33m\u001b[0m\u001b[0m\n\u001b[0;32m      6\u001b[0m \u001b[1;33m\u001b[0m\u001b[0m\n",
      "\u001b[1;32m~\\anaconda3\\lib\\site-packages\\sklearn\\utils\\validation.py\u001b[0m in \u001b[0;36minner_f\u001b[1;34m(*args, **kwargs)\u001b[0m\n\u001b[0;32m     61\u001b[0m             \u001b[0mextra_args\u001b[0m \u001b[1;33m=\u001b[0m \u001b[0mlen\u001b[0m\u001b[1;33m(\u001b[0m\u001b[0margs\u001b[0m\u001b[1;33m)\u001b[0m \u001b[1;33m-\u001b[0m \u001b[0mlen\u001b[0m\u001b[1;33m(\u001b[0m\u001b[0mall_args\u001b[0m\u001b[1;33m)\u001b[0m\u001b[1;33m\u001b[0m\u001b[1;33m\u001b[0m\u001b[0m\n\u001b[0;32m     62\u001b[0m             \u001b[1;32mif\u001b[0m \u001b[0mextra_args\u001b[0m \u001b[1;33m<=\u001b[0m \u001b[1;36m0\u001b[0m\u001b[1;33m:\u001b[0m\u001b[1;33m\u001b[0m\u001b[1;33m\u001b[0m\u001b[0m\n\u001b[1;32m---> 63\u001b[1;33m                 \u001b[1;32mreturn\u001b[0m \u001b[0mf\u001b[0m\u001b[1;33m(\u001b[0m\u001b[1;33m*\u001b[0m\u001b[0margs\u001b[0m\u001b[1;33m,\u001b[0m \u001b[1;33m**\u001b[0m\u001b[0mkwargs\u001b[0m\u001b[1;33m)\u001b[0m\u001b[1;33m\u001b[0m\u001b[1;33m\u001b[0m\u001b[0m\n\u001b[0m\u001b[0;32m     64\u001b[0m \u001b[1;33m\u001b[0m\u001b[0m\n\u001b[0;32m     65\u001b[0m             \u001b[1;31m# extra_args > 0\u001b[0m\u001b[1;33m\u001b[0m\u001b[1;33m\u001b[0m\u001b[1;33m\u001b[0m\u001b[0m\n",
      "\u001b[1;32m~\\anaconda3\\lib\\site-packages\\sklearn\\metrics\\_ranking.py\u001b[0m in \u001b[0;36mroc_curve\u001b[1;34m(y_true, y_score, pos_label, sample_weight, drop_intermediate)\u001b[0m\n\u001b[0;32m    911\u001b[0m \u001b[1;33m\u001b[0m\u001b[0m\n\u001b[0;32m    912\u001b[0m     \"\"\"\n\u001b[1;32m--> 913\u001b[1;33m     fps, tps, thresholds = _binary_clf_curve(\n\u001b[0m\u001b[0;32m    914\u001b[0m         y_true, y_score, pos_label=pos_label, sample_weight=sample_weight)\n\u001b[0;32m    915\u001b[0m \u001b[1;33m\u001b[0m\u001b[0m\n",
      "\u001b[1;32m~\\anaconda3\\lib\\site-packages\\sklearn\\metrics\\_ranking.py\u001b[0m in \u001b[0;36m_binary_clf_curve\u001b[1;34m(y_true, y_score, pos_label, sample_weight)\u001b[0m\n\u001b[0;32m    691\u001b[0m         \u001b[1;32mraise\u001b[0m \u001b[0mValueError\u001b[0m\u001b[1;33m(\u001b[0m\u001b[1;34m\"{0} format is not supported\"\u001b[0m\u001b[1;33m.\u001b[0m\u001b[0mformat\u001b[0m\u001b[1;33m(\u001b[0m\u001b[0my_type\u001b[0m\u001b[1;33m)\u001b[0m\u001b[1;33m)\u001b[0m\u001b[1;33m\u001b[0m\u001b[1;33m\u001b[0m\u001b[0m\n\u001b[0;32m    692\u001b[0m \u001b[1;33m\u001b[0m\u001b[0m\n\u001b[1;32m--> 693\u001b[1;33m     \u001b[0mcheck_consistent_length\u001b[0m\u001b[1;33m(\u001b[0m\u001b[0my_true\u001b[0m\u001b[1;33m,\u001b[0m \u001b[0my_score\u001b[0m\u001b[1;33m,\u001b[0m \u001b[0msample_weight\u001b[0m\u001b[1;33m)\u001b[0m\u001b[1;33m\u001b[0m\u001b[1;33m\u001b[0m\u001b[0m\n\u001b[0m\u001b[0;32m    694\u001b[0m     \u001b[0my_true\u001b[0m \u001b[1;33m=\u001b[0m \u001b[0mcolumn_or_1d\u001b[0m\u001b[1;33m(\u001b[0m\u001b[0my_true\u001b[0m\u001b[1;33m)\u001b[0m\u001b[1;33m\u001b[0m\u001b[1;33m\u001b[0m\u001b[0m\n\u001b[0;32m    695\u001b[0m     \u001b[0my_score\u001b[0m \u001b[1;33m=\u001b[0m \u001b[0mcolumn_or_1d\u001b[0m\u001b[1;33m(\u001b[0m\u001b[0my_score\u001b[0m\u001b[1;33m)\u001b[0m\u001b[1;33m\u001b[0m\u001b[1;33m\u001b[0m\u001b[0m\n",
      "\u001b[1;32m~\\anaconda3\\lib\\site-packages\\sklearn\\utils\\validation.py\u001b[0m in \u001b[0;36mcheck_consistent_length\u001b[1;34m(*arrays)\u001b[0m\n\u001b[0;32m    260\u001b[0m     \u001b[0muniques\u001b[0m \u001b[1;33m=\u001b[0m \u001b[0mnp\u001b[0m\u001b[1;33m.\u001b[0m\u001b[0munique\u001b[0m\u001b[1;33m(\u001b[0m\u001b[0mlengths\u001b[0m\u001b[1;33m)\u001b[0m\u001b[1;33m\u001b[0m\u001b[1;33m\u001b[0m\u001b[0m\n\u001b[0;32m    261\u001b[0m     \u001b[1;32mif\u001b[0m \u001b[0mlen\u001b[0m\u001b[1;33m(\u001b[0m\u001b[0muniques\u001b[0m\u001b[1;33m)\u001b[0m \u001b[1;33m>\u001b[0m \u001b[1;36m1\u001b[0m\u001b[1;33m:\u001b[0m\u001b[1;33m\u001b[0m\u001b[1;33m\u001b[0m\u001b[0m\n\u001b[1;32m--> 262\u001b[1;33m         raise ValueError(\"Found input variables with inconsistent numbers of\"\n\u001b[0m\u001b[0;32m    263\u001b[0m                          \" samples: %r\" % [int(l) for l in lengths])\n\u001b[0;32m    264\u001b[0m \u001b[1;33m\u001b[0m\u001b[0m\n",
      "\u001b[1;31mValueError\u001b[0m: Found input variables with inconsistent numbers of samples: [268205, 7882]"
     ]
    }
   ],
   "source": [
    "from sklearn.metrics import roc_curve\n",
    "from sklearn.metrics import roc_auc_score\n",
    "\n",
    "fpr_train, tpr_train, thresholds_train = roc_curve(y_train, y_train_preds)\n",
    "fpr_valid, tpr_valid, thresholds_valid = roc_curve(y_valid, y_valid_preds)\n",
    "\n",
    "\n",
    "thresh = 0.9\n",
    "\n",
    "auc_train = roc_auc_score(y_train, y_train_preds)\n",
    "auc_valid = roc_auc_score(y_valid, y_valid_preds)\n",
    "\n",
    "print('Train AUC:%.3f'%auc_train)\n",
    "print('Valid AUC:%.3f'%auc_valid)\n",
    "\n",
    "print('Train accuracy:%.3f'%calc_accuracy(y_train, y_train_preds, thresh))\n",
    "print('Valid accuracy:%.3f'%calc_accuracy(y_valid, y_valid_preds, thresh))\n",
    "\n",
    "\n",
    "print('Train recall:%.3f'%calc_recall(y_train, y_train_preds, thresh))\n",
    "print('Valid recall:%.3f'%calc_recall(y_valid, y_valid_preds, thresh))\n",
    "\n",
    "print('Train precision:%.3f'%calc_precision(y_train, y_train_preds, thresh))\n",
    "print('Valid precision:%.3f'%calc_precision(y_valid, y_valid_preds, thresh))\n",
    "\n",
    "print('Train specificity:%.3f'%calc_specificity(y_train, y_train_preds, thresh))\n",
    "print('Valid specificity:%.3f'%calc_specificity(y_valid, y_valid_preds, thresh))\n",
    "\n",
    "print('Train prevalence:%.3f'%calc_prevalence(y_train))\n",
    "print('Valid prevalence:%.3f'%calc_prevalence(y_valid))\n"
   ]
  },
  {
   "cell_type": "code",
   "execution_count": null,
   "metadata": {},
   "outputs": [],
   "source": [
    "Finally, if we run the data through the classifier, and set the threshold to 0.0, 0.10, 0.20, . . , 0.90, 1.0 then each value of the threshold will genrate a different number of TP, FP, TN, FN. For each of the 11 threshold values, if we make a graph with FP on the x-axis and TP on the y-axis, we’ll get 11 dots. If we connect the dots we get what’s called a ROC curve (receiver operating characteristic)."
   ]
  },
  {
   "cell_type": "code",
   "execution_count": null,
   "metadata": {},
   "outputs": [],
   "source": [
    "plt.plot(fpr_train, tpr_train,'r-', label = 'Train AUC: %.2f'%auc_train)\n",
    "plt.plot(fpr_valid, tpr_valid,'b-',label = 'Valid AUC: %.2f'%auc_valid)\n",
    "plt.plot([0,1],[0,1],'-k')\n",
    "plt.xlabel('False Positive Rate')\n",
    "plt.ylabel('True Positive Rate')\n",
    "plt.legend()\n",
    "plt.show()"
   ]
  }
 ]
}