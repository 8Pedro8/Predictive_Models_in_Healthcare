{
 "metadata": {
  "language_info": {
   "codemirror_mode": {
    "name": "ipython",
    "version": 3
   },
   "file_extension": ".py",
   "mimetype": "text/x-python",
   "name": "python",
   "nbconvert_exporter": "python",
   "pygments_lexer": "ipython3",
   "version": "3.8.8"
  },
  "orig_nbformat": 4,
  "kernelspec": {
   "name": "python3",
   "display_name": "Python 3.8.8 64-bit ('base': conda)"
  },
  "interpreter": {
   "hash": "ca91aee8edd15b37e2ac91f1bb15239ffec5b3531be41daeb3cd5ccbcec938a2"
  }
 },
 "nbformat": 4,
 "nbformat_minor": 2,
 "cells": [
  {
   "source": [
    "# Hospital LOS (Length-of-Stay)\n",
    "First of all what is LOS? **Hospital length-of-stay (LOS)** is defined as the time between hospital admission and discharge measured in days.\n",
    "\n",
    "**1. Problem Statement**: The goal is to create a model that predicts the length-of-stay for each patient at time of admission.\n",
    "\n",
    "In order to predict hospital LOS, the MIMIC data needed to be separated into terms of:\n",
    "- dependent target variable (length-of-stay in this case) \n",
    "- and independent variables (features) to be used as inputs to the model. \n",
    "\n",
    "**2. Type of model used for prediction**\n",
    "Since LOS is not a categorical but continuous variable (measured in days), a **regression model** will be used for prediction. \n",
    "\n",
    "**3. Metrics used for validation**\n",
    "The expected outcome is that the model we use will be better at predicting hospital LOS than the industry standards of **median and average LOS**. The median LOS is simply the median LOS of past admissions to a hospital. Similarly, a second commonly used metric in healthcare is the average, or mean LOS. \n",
    "\n",
    "So, to measure performance of our model, we'll compare the prediction model against the median and average LOS using the root-mean-square error (RMSE). The RMSE is a commonly used measure of the differences between values predicted by a model and the values observed, where a *lower score implies better accuracy*. For example, a perfect prediction model would have an RMSE of 0. \n",
    "\n",
    "The RMSE equation for this work is given as follows, where (n) is the number of hospital admission records, (y-hat) the prediction LOS, and (y) is the actual LOS.\n",
    "\n",
    "![RMSE](/images/RMSE.png)\n",
    "\n",
    "We could say we have a successful model if its prediction results in a lower RMSE than the average or median models.\n",
    "\n",
    "There is a multitude of regression models available for predicting LOS. To determine the best regression model between the subset of models that will be evaluated, the **R2 (R-squared)** score will be used.\n",
    "\n",
    "R Square measures how much variability in dependent variable can be explained by the model. In other words, it is the proportion of the variance in the dependent variable that is predictable from the independent variables. R2 is defined as the following equation where (y_i) is an observed data point, (ŷ) is the mean of the observed data, and (f_i) the predicted model value.\n",
    "\n",
    "![RMSE](/images/R2.png)\n",
    "\n",
    "Best possible R2 score is 1.0 and a negative value means it is worse than a constant model, average or median in this case."
   ],
   "cell_type": "code",
   "metadata": {},
   "execution_count": null,
   "outputs": []
  },
  {
   "cell_type": "code",
   "execution_count": null,
   "metadata": {},
   "outputs": [],
   "source": []
  }
 ]
}