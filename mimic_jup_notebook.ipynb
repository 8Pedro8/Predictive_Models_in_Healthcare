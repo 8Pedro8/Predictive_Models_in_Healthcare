{
 "metadata": {
  "language_info": {
   "codemirror_mode": {
    "name": "ipython",
    "version": 3
   },
   "file_extension": ".py",
   "mimetype": "text/x-python",
   "name": "python",
   "nbconvert_exporter": "python",
   "pygments_lexer": "ipython3",
   "version": "3.8.8"
  },
  "orig_nbformat": 4,
  "kernelspec": {
   "name": "python3",
   "display_name": "Python 3.8.8 64-bit ('base': conda)"
  },
  "interpreter": {
   "hash": "ca91aee8edd15b37e2ac91f1bb15239ffec5b3531be41daeb3cd5ccbcec938a2"
  }
 },
 "nbformat": 4,
 "nbformat_minor": 2,
 "cells": [
  {
   "cell_type": "code",
   "execution_count": 11,
   "metadata": {},
   "outputs": [
    {
     "output_type": "stream",
     "name": "stderr",
     "text": [
      "C:\\Users\\nicod\\anaconda3\\lib\\site-packages\\IPython\\core\\interactiveshell.py:3165: DtypeWarning: Columns (4,5) have mixed types.Specify dtype option on import or set low_memory=False.\n  has_raised = await self.run_ast_nodes(code_ast.body, cell_name,\n"
     ]
    }
   ],
   "source": [
    "import pandas as pd\n",
    "\n",
    "noteevents = pd.read_csv('../../mimic-iii-clinical-database-1.4/NOTEEVENTS.csv')"
   ]
  },
  {
   "cell_type": "code",
   "execution_count": 20,
   "metadata": {},
   "outputs": [],
   "source": [
    "noteevents.drop(columns='ROW_ID')\n",
    "noteevents = noteevents[(noteevents.CATEGORY == \"Discharge summary\")]"
   ]
  },
  {
   "cell_type": "code",
   "execution_count": 23,
   "metadata": {},
   "outputs": [
    {
     "output_type": "execute_result",
     "data": {
      "text/plain": [
       "59652"
      ]
     },
     "metadata": {},
     "execution_count": 23
    }
   ],
   "source": [
    "len(noteevents)"
   ]
  },
  {
   "cell_type": "code",
   "execution_count": 7,
   "metadata": {},
   "outputs": [],
   "source": [
    "diagnoses =  pd.read_csv('../../mimic-iii-clinical-database-1.4/DIAGNOSES_ICD.csv')"
   ]
  },
  {
   "cell_type": "code",
   "execution_count": 17,
   "metadata": {},
   "outputs": [
    {
     "output_type": "execute_result",
     "data": {
      "text/plain": [
       "        SUBJECT_ID  HADM_ID  SEQ_NUM ICD9_CODE\n",
       "0              109   172335      1.0     40301\n",
       "1              109   172335      2.0       486\n",
       "2              109   172335      3.0     58281\n",
       "3              109   172335      4.0      5855\n",
       "4              109   172335      5.0      4254\n",
       "...            ...      ...      ...       ...\n",
       "651042       97503   188195      2.0     20280\n",
       "651043       97503   188195      3.0     V5869\n",
       "651044       97503   188195      4.0     V1279\n",
       "651045       97503   188195      5.0      5275\n",
       "651046       97503   188195      6.0      5569\n",
       "\n",
       "[651047 rows x 4 columns]"
      ],
      "text/html": "<div>\n<style scoped>\n    .dataframe tbody tr th:only-of-type {\n        vertical-align: middle;\n    }\n\n    .dataframe tbody tr th {\n        vertical-align: top;\n    }\n\n    .dataframe thead th {\n        text-align: right;\n    }\n</style>\n<table border=\"1\" class=\"dataframe\">\n  <thead>\n    <tr style=\"text-align: right;\">\n      <th></th>\n      <th>SUBJECT_ID</th>\n      <th>HADM_ID</th>\n      <th>SEQ_NUM</th>\n      <th>ICD9_CODE</th>\n    </tr>\n  </thead>\n  <tbody>\n    <tr>\n      <th>0</th>\n      <td>109</td>\n      <td>172335</td>\n      <td>1.0</td>\n      <td>40301</td>\n    </tr>\n    <tr>\n      <th>1</th>\n      <td>109</td>\n      <td>172335</td>\n      <td>2.0</td>\n      <td>486</td>\n    </tr>\n    <tr>\n      <th>2</th>\n      <td>109</td>\n      <td>172335</td>\n      <td>3.0</td>\n      <td>58281</td>\n    </tr>\n    <tr>\n      <th>3</th>\n      <td>109</td>\n      <td>172335</td>\n      <td>4.0</td>\n      <td>5855</td>\n    </tr>\n    <tr>\n      <th>4</th>\n      <td>109</td>\n      <td>172335</td>\n      <td>5.0</td>\n      <td>4254</td>\n    </tr>\n    <tr>\n      <th>...</th>\n      <td>...</td>\n      <td>...</td>\n      <td>...</td>\n      <td>...</td>\n    </tr>\n    <tr>\n      <th>651042</th>\n      <td>97503</td>\n      <td>188195</td>\n      <td>2.0</td>\n      <td>20280</td>\n    </tr>\n    <tr>\n      <th>651043</th>\n      <td>97503</td>\n      <td>188195</td>\n      <td>3.0</td>\n      <td>V5869</td>\n    </tr>\n    <tr>\n      <th>651044</th>\n      <td>97503</td>\n      <td>188195</td>\n      <td>4.0</td>\n      <td>V1279</td>\n    </tr>\n    <tr>\n      <th>651045</th>\n      <td>97503</td>\n      <td>188195</td>\n      <td>5.0</td>\n      <td>5275</td>\n    </tr>\n    <tr>\n      <th>651046</th>\n      <td>97503</td>\n      <td>188195</td>\n      <td>6.0</td>\n      <td>5569</td>\n    </tr>\n  </tbody>\n</table>\n<p>651047 rows × 4 columns</p>\n</div>"
     },
     "metadata": {},
     "execution_count": 17
    }
   ],
   "source": [
    "diagnoses.drop(columns='ROW_ID')"
   ]
  },
  {
   "cell_type": "code",
   "execution_count": 24,
   "metadata": {},
   "outputs": [
    {
     "output_type": "execute_result",
     "data": {
      "text/plain": [
       "   ROW_ID_x  SUBJECT_ID   HADM_ID   CHARTDATE CHARTTIME STORETIME  \\\n",
       "0       174       22532  167853.0  2151-08-04       NaN       NaN   \n",
       "1       174       22532  167853.0  2151-08-04       NaN       NaN   \n",
       "2       174       22532  167853.0  2151-08-04       NaN       NaN   \n",
       "3       174       22532  167853.0  2151-08-04       NaN       NaN   \n",
       "4       174       22532  167853.0  2151-08-04       NaN       NaN   \n",
       "\n",
       "            CATEGORY DESCRIPTION  CGID  ISERROR  \\\n",
       "0  Discharge summary      Report   NaN      NaN   \n",
       "1  Discharge summary      Report   NaN      NaN   \n",
       "2  Discharge summary      Report   NaN      NaN   \n",
       "3  Discharge summary      Report   NaN      NaN   \n",
       "4  Discharge summary      Report   NaN      NaN   \n",
       "\n",
       "                                                TEXT  ROW_ID_y  SEQ_NUM  \\\n",
       "0  Admission Date:  [**2151-7-16**]       Dischar...    250889      1.0   \n",
       "1  Admission Date:  [**2151-7-16**]       Dischar...    250890      2.0   \n",
       "2  Admission Date:  [**2151-7-16**]       Dischar...    250891      3.0   \n",
       "3  Admission Date:  [**2151-7-16**]       Dischar...    250892      4.0   \n",
       "4  Admission Date:  [**2151-7-16**]       Dischar...    250893      5.0   \n",
       "\n",
       "  ICD9_CODE  \n",
       "0     01193  \n",
       "1      4254  \n",
       "2     42731  \n",
       "3      2639  \n",
       "4      2762  "
      ],
      "text/html": "<div>\n<style scoped>\n    .dataframe tbody tr th:only-of-type {\n        vertical-align: middle;\n    }\n\n    .dataframe tbody tr th {\n        vertical-align: top;\n    }\n\n    .dataframe thead th {\n        text-align: right;\n    }\n</style>\n<table border=\"1\" class=\"dataframe\">\n  <thead>\n    <tr style=\"text-align: right;\">\n      <th></th>\n      <th>ROW_ID_x</th>\n      <th>SUBJECT_ID</th>\n      <th>HADM_ID</th>\n      <th>CHARTDATE</th>\n      <th>CHARTTIME</th>\n      <th>STORETIME</th>\n      <th>CATEGORY</th>\n      <th>DESCRIPTION</th>\n      <th>CGID</th>\n      <th>ISERROR</th>\n      <th>TEXT</th>\n      <th>ROW_ID_y</th>\n      <th>SEQ_NUM</th>\n      <th>ICD9_CODE</th>\n    </tr>\n  </thead>\n  <tbody>\n    <tr>\n      <th>0</th>\n      <td>174</td>\n      <td>22532</td>\n      <td>167853.0</td>\n      <td>2151-08-04</td>\n      <td>NaN</td>\n      <td>NaN</td>\n      <td>Discharge summary</td>\n      <td>Report</td>\n      <td>NaN</td>\n      <td>NaN</td>\n      <td>Admission Date:  [**2151-7-16**]       Dischar...</td>\n      <td>250889</td>\n      <td>1.0</td>\n      <td>01193</td>\n    </tr>\n    <tr>\n      <th>1</th>\n      <td>174</td>\n      <td>22532</td>\n      <td>167853.0</td>\n      <td>2151-08-04</td>\n      <td>NaN</td>\n      <td>NaN</td>\n      <td>Discharge summary</td>\n      <td>Report</td>\n      <td>NaN</td>\n      <td>NaN</td>\n      <td>Admission Date:  [**2151-7-16**]       Dischar...</td>\n      <td>250890</td>\n      <td>2.0</td>\n      <td>4254</td>\n    </tr>\n    <tr>\n      <th>2</th>\n      <td>174</td>\n      <td>22532</td>\n      <td>167853.0</td>\n      <td>2151-08-04</td>\n      <td>NaN</td>\n      <td>NaN</td>\n      <td>Discharge summary</td>\n      <td>Report</td>\n      <td>NaN</td>\n      <td>NaN</td>\n      <td>Admission Date:  [**2151-7-16**]       Dischar...</td>\n      <td>250891</td>\n      <td>3.0</td>\n      <td>42731</td>\n    </tr>\n    <tr>\n      <th>3</th>\n      <td>174</td>\n      <td>22532</td>\n      <td>167853.0</td>\n      <td>2151-08-04</td>\n      <td>NaN</td>\n      <td>NaN</td>\n      <td>Discharge summary</td>\n      <td>Report</td>\n      <td>NaN</td>\n      <td>NaN</td>\n      <td>Admission Date:  [**2151-7-16**]       Dischar...</td>\n      <td>250892</td>\n      <td>4.0</td>\n      <td>2639</td>\n    </tr>\n    <tr>\n      <th>4</th>\n      <td>174</td>\n      <td>22532</td>\n      <td>167853.0</td>\n      <td>2151-08-04</td>\n      <td>NaN</td>\n      <td>NaN</td>\n      <td>Discharge summary</td>\n      <td>Report</td>\n      <td>NaN</td>\n      <td>NaN</td>\n      <td>Admission Date:  [**2151-7-16**]       Dischar...</td>\n      <td>250893</td>\n      <td>5.0</td>\n      <td>2762</td>\n    </tr>\n  </tbody>\n</table>\n</div>"
     },
     "metadata": {},
     "execution_count": 24
    }
   ],
   "source": [
    "noteevents_diagnoses = pd.merge(noteevents,diagnoses, on=['SUBJECT_ID', 'HADM_ID'])\n",
    "noteevents_diagnoses.head()"
   ]
  },
  {
   "cell_type": "code",
   "execution_count": 25,
   "metadata": {},
   "outputs": [
    {
     "output_type": "execute_result",
     "data": {
      "text/plain": [
       "693821"
      ]
     },
     "metadata": {},
     "execution_count": 25
    }
   ],
   "source": [
    "len(noteevents_diagnoses)"
   ]
  },
  {
   "cell_type": "code",
   "execution_count": 3,
   "metadata": {},
   "outputs": [
    {
     "output_type": "execute_result",
     "data": {
      "text/plain": [
       "   ROW_ID_x  SUBJECT_ID GENDER                  DOB                  DOD  \\\n",
       "0       234         249      F  2075-03-13 00:00:00                  NaN   \n",
       "1       234         249      F  2075-03-13 00:00:00                  NaN   \n",
       "2       234         249      F  2075-03-13 00:00:00                  NaN   \n",
       "3       235         250      F  2164-12-27 00:00:00  2188-11-22 00:00:00   \n",
       "4       236         251      M  2090-03-15 00:00:00                  NaN   \n",
       "\n",
       "              DOD_HOSP DOD_SSN  EXPIRE_FLAG  ROW_ID_y  HADM_ID  ... INSURANCE  \\\n",
       "0                  NaN     NaN            0       321   116935  ...  Medicare   \n",
       "1                  NaN     NaN            0       322   149546  ...  Medicare   \n",
       "2                  NaN     NaN            0       323   158975  ...  Medicare   \n",
       "3  2188-11-22 00:00:00     NaN            1       324   124271  ...  Self Pay   \n",
       "4                  NaN     NaN            0       325   117937  ...   Private   \n",
       "\n",
       "  LANGUAGE       RELIGION MARITAL_STATUS               ETHNICITY  \\\n",
       "0      NaN       CATHOLIC       DIVORCED                   WHITE   \n",
       "1     ENGL       CATHOLIC       DIVORCED                   WHITE   \n",
       "2     ENGL       CATHOLIC       DIVORCED                   WHITE   \n",
       "3     HAIT  NOT SPECIFIED         SINGLE  BLACK/AFRICAN AMERICAN   \n",
       "4      NaN          OTHER            NaN   UNKNOWN/NOT SPECIFIED   \n",
       "\n",
       "             EDREGTIME            EDOUTTIME  \\\n",
       "0  2149-12-17 11:10:00  2149-12-17 21:35:00   \n",
       "1  2155-02-03 17:43:00  2155-02-03 21:26:00   \n",
       "2                  NaN                  NaN   \n",
       "3  2188-11-12 06:56:00  2188-11-12 10:10:00   \n",
       "4  2110-07-27 05:00:00  2110-07-27 07:15:00   \n",
       "\n",
       "                           DIAGNOSIS HOSPITAL_EXPIRE_FLAG HAS_CHARTEVENTS_DATA  \n",
       "0  UNSTABLE ANGINA;ASTHMA;BRONCHITIS                    0                    1  \n",
       "1               GI BLEED/ CHEST PAIN                    0                    1  \n",
       "2            GI BLEEDING\\COLONOSCOPY                    0                    1  \n",
       "3                   PNEUMONIA;R/O TB                    1                    1  \n",
       "4            INTRACRANIAL HEAD BLEED                    0                    1  \n",
       "\n",
       "[5 rows x 26 columns]"
      ],
      "text/html": "<div>\n<style scoped>\n    .dataframe tbody tr th:only-of-type {\n        vertical-align: middle;\n    }\n\n    .dataframe tbody tr th {\n        vertical-align: top;\n    }\n\n    .dataframe thead th {\n        text-align: right;\n    }\n</style>\n<table border=\"1\" class=\"dataframe\">\n  <thead>\n    <tr style=\"text-align: right;\">\n      <th></th>\n      <th>ROW_ID_x</th>\n      <th>SUBJECT_ID</th>\n      <th>GENDER</th>\n      <th>DOB</th>\n      <th>DOD</th>\n      <th>DOD_HOSP</th>\n      <th>DOD_SSN</th>\n      <th>EXPIRE_FLAG</th>\n      <th>ROW_ID_y</th>\n      <th>HADM_ID</th>\n      <th>...</th>\n      <th>INSURANCE</th>\n      <th>LANGUAGE</th>\n      <th>RELIGION</th>\n      <th>MARITAL_STATUS</th>\n      <th>ETHNICITY</th>\n      <th>EDREGTIME</th>\n      <th>EDOUTTIME</th>\n      <th>DIAGNOSIS</th>\n      <th>HOSPITAL_EXPIRE_FLAG</th>\n      <th>HAS_CHARTEVENTS_DATA</th>\n    </tr>\n  </thead>\n  <tbody>\n    <tr>\n      <th>0</th>\n      <td>234</td>\n      <td>249</td>\n      <td>F</td>\n      <td>2075-03-13 00:00:00</td>\n      <td>NaN</td>\n      <td>NaN</td>\n      <td>NaN</td>\n      <td>0</td>\n      <td>321</td>\n      <td>116935</td>\n      <td>...</td>\n      <td>Medicare</td>\n      <td>NaN</td>\n      <td>CATHOLIC</td>\n      <td>DIVORCED</td>\n      <td>WHITE</td>\n      <td>2149-12-17 11:10:00</td>\n      <td>2149-12-17 21:35:00</td>\n      <td>UNSTABLE ANGINA;ASTHMA;BRONCHITIS</td>\n      <td>0</td>\n      <td>1</td>\n    </tr>\n    <tr>\n      <th>1</th>\n      <td>234</td>\n      <td>249</td>\n      <td>F</td>\n      <td>2075-03-13 00:00:00</td>\n      <td>NaN</td>\n      <td>NaN</td>\n      <td>NaN</td>\n      <td>0</td>\n      <td>322</td>\n      <td>149546</td>\n      <td>...</td>\n      <td>Medicare</td>\n      <td>ENGL</td>\n      <td>CATHOLIC</td>\n      <td>DIVORCED</td>\n      <td>WHITE</td>\n      <td>2155-02-03 17:43:00</td>\n      <td>2155-02-03 21:26:00</td>\n      <td>GI BLEED/ CHEST PAIN</td>\n      <td>0</td>\n      <td>1</td>\n    </tr>\n    <tr>\n      <th>2</th>\n      <td>234</td>\n      <td>249</td>\n      <td>F</td>\n      <td>2075-03-13 00:00:00</td>\n      <td>NaN</td>\n      <td>NaN</td>\n      <td>NaN</td>\n      <td>0</td>\n      <td>323</td>\n      <td>158975</td>\n      <td>...</td>\n      <td>Medicare</td>\n      <td>ENGL</td>\n      <td>CATHOLIC</td>\n      <td>DIVORCED</td>\n      <td>WHITE</td>\n      <td>NaN</td>\n      <td>NaN</td>\n      <td>GI BLEEDING\\COLONOSCOPY</td>\n      <td>0</td>\n      <td>1</td>\n    </tr>\n    <tr>\n      <th>3</th>\n      <td>235</td>\n      <td>250</td>\n      <td>F</td>\n      <td>2164-12-27 00:00:00</td>\n      <td>2188-11-22 00:00:00</td>\n      <td>2188-11-22 00:00:00</td>\n      <td>NaN</td>\n      <td>1</td>\n      <td>324</td>\n      <td>124271</td>\n      <td>...</td>\n      <td>Self Pay</td>\n      <td>HAIT</td>\n      <td>NOT SPECIFIED</td>\n      <td>SINGLE</td>\n      <td>BLACK/AFRICAN AMERICAN</td>\n      <td>2188-11-12 06:56:00</td>\n      <td>2188-11-12 10:10:00</td>\n      <td>PNEUMONIA;R/O TB</td>\n      <td>1</td>\n      <td>1</td>\n    </tr>\n    <tr>\n      <th>4</th>\n      <td>236</td>\n      <td>251</td>\n      <td>M</td>\n      <td>2090-03-15 00:00:00</td>\n      <td>NaN</td>\n      <td>NaN</td>\n      <td>NaN</td>\n      <td>0</td>\n      <td>325</td>\n      <td>117937</td>\n      <td>...</td>\n      <td>Private</td>\n      <td>NaN</td>\n      <td>OTHER</td>\n      <td>NaN</td>\n      <td>UNKNOWN/NOT SPECIFIED</td>\n      <td>2110-07-27 05:00:00</td>\n      <td>2110-07-27 07:15:00</td>\n      <td>INTRACRANIAL HEAD BLEED</td>\n      <td>0</td>\n      <td>1</td>\n    </tr>\n  </tbody>\n</table>\n<p>5 rows × 26 columns</p>\n</div>"
     },
     "metadata": {},
     "execution_count": 3
    }
   ],
   "source": [
    "patients_admission = pd.merge(patients,admissions,on='SUBJECT_ID')\n",
    "patients_admission.head()"
   ]
  },
  {
   "cell_type": "code",
   "execution_count": null,
   "metadata": {},
   "outputs": [],
   "source": []
  }
 ]
}