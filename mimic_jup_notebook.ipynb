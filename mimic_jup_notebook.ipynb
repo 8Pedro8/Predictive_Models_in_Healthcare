{
 "metadata": {
  "language_info": {
   "codemirror_mode": {
    "name": "ipython",
    "version": 3
   },
   "file_extension": ".py",
   "mimetype": "text/x-python",
   "name": "python",
   "nbconvert_exporter": "python",
   "pygments_lexer": "ipython3",
   "version": "3.8.8"
  },
  "orig_nbformat": 4,
  "kernelspec": {
   "name": "python3",
   "display_name": "Python 3.8.8 64-bit ('nicod': virtualenv)"
  },
  "interpreter": {
   "hash": "ca91aee8edd15b37e2ac91f1bb15239ffec5b3531be41daeb3cd5ccbcec938a2"
  }
 },
 "nbformat": 4,
 "nbformat_minor": 2,
 "cells": [
  {
   "cell_type": "code",
   "execution_count": 2,
   "metadata": {},
   "outputs": [],
   "source": [
    "import numpy as np\n",
    "import pandas as pd\n",
    "import matplotlib.pyplot as plt\n",
    "\n",
    "admissions = pd.read_csv('../../mimic-iii-clinical-database-1.4/extracted/ADMISSIONS.csv')\n",
    "patients = pd.read_csv('../../mimic-iii-clinical-database-1.4/extracted/PATIENTS.csv')"
   ]
  },
  {
   "cell_type": "code",
   "execution_count": 6,
   "metadata": {},
   "outputs": [
    {
     "output_type": "execute_result",
     "data": {
      "text/plain": [
       "   ROW_ID  SUBJECT_ID GENDER                  DOB                  DOD  \\\n",
       "0     234         249      F  2075-03-13 00:00:00                  NaN   \n",
       "1     235         250      F  2164-12-27 00:00:00  2188-11-22 00:00:00   \n",
       "2     236         251      M  2090-03-15 00:00:00                  NaN   \n",
       "3     237         252      M  2078-03-06 00:00:00                  NaN   \n",
       "4     238         253      F  2089-11-26 00:00:00                  NaN   \n",
       "\n",
       "              DOD_HOSP DOD_SSN  EXPIRE_FLAG  \n",
       "0                  NaN     NaN            0  \n",
       "1  2188-11-22 00:00:00     NaN            1  \n",
       "2                  NaN     NaN            0  \n",
       "3                  NaN     NaN            0  \n",
       "4                  NaN     NaN            0  "
      ],
      "text/html": "<div>\n<style scoped>\n    .dataframe tbody tr th:only-of-type {\n        vertical-align: middle;\n    }\n\n    .dataframe tbody tr th {\n        vertical-align: top;\n    }\n\n    .dataframe thead th {\n        text-align: right;\n    }\n</style>\n<table border=\"1\" class=\"dataframe\">\n  <thead>\n    <tr style=\"text-align: right;\">\n      <th></th>\n      <th>ROW_ID</th>\n      <th>SUBJECT_ID</th>\n      <th>GENDER</th>\n      <th>DOB</th>\n      <th>DOD</th>\n      <th>DOD_HOSP</th>\n      <th>DOD_SSN</th>\n      <th>EXPIRE_FLAG</th>\n    </tr>\n  </thead>\n  <tbody>\n    <tr>\n      <th>0</th>\n      <td>234</td>\n      <td>249</td>\n      <td>F</td>\n      <td>2075-03-13 00:00:00</td>\n      <td>NaN</td>\n      <td>NaN</td>\n      <td>NaN</td>\n      <td>0</td>\n    </tr>\n    <tr>\n      <th>1</th>\n      <td>235</td>\n      <td>250</td>\n      <td>F</td>\n      <td>2164-12-27 00:00:00</td>\n      <td>2188-11-22 00:00:00</td>\n      <td>2188-11-22 00:00:00</td>\n      <td>NaN</td>\n      <td>1</td>\n    </tr>\n    <tr>\n      <th>2</th>\n      <td>236</td>\n      <td>251</td>\n      <td>M</td>\n      <td>2090-03-15 00:00:00</td>\n      <td>NaN</td>\n      <td>NaN</td>\n      <td>NaN</td>\n      <td>0</td>\n    </tr>\n    <tr>\n      <th>3</th>\n      <td>237</td>\n      <td>252</td>\n      <td>M</td>\n      <td>2078-03-06 00:00:00</td>\n      <td>NaN</td>\n      <td>NaN</td>\n      <td>NaN</td>\n      <td>0</td>\n    </tr>\n    <tr>\n      <th>4</th>\n      <td>238</td>\n      <td>253</td>\n      <td>F</td>\n      <td>2089-11-26 00:00:00</td>\n      <td>NaN</td>\n      <td>NaN</td>\n      <td>NaN</td>\n      <td>0</td>\n    </tr>\n  </tbody>\n</table>\n</div>"
     },
     "metadata": {},
     "execution_count": 6
    }
   ],
   "source": [
    "patients.head()"
   ]
  },
  {
   "cell_type": "code",
   "execution_count": 3,
   "metadata": {},
   "outputs": [
    {
     "output_type": "execute_result",
     "data": {
      "text/plain": [
       "   ROW_ID_x  SUBJECT_ID GENDER                  DOB                  DOD  \\\n",
       "0       234         249      F  2075-03-13 00:00:00                  NaN   \n",
       "1       234         249      F  2075-03-13 00:00:00                  NaN   \n",
       "2       234         249      F  2075-03-13 00:00:00                  NaN   \n",
       "3       235         250      F  2164-12-27 00:00:00  2188-11-22 00:00:00   \n",
       "4       236         251      M  2090-03-15 00:00:00                  NaN   \n",
       "\n",
       "              DOD_HOSP DOD_SSN  EXPIRE_FLAG  ROW_ID_y  HADM_ID  ... INSURANCE  \\\n",
       "0                  NaN     NaN            0       321   116935  ...  Medicare   \n",
       "1                  NaN     NaN            0       322   149546  ...  Medicare   \n",
       "2                  NaN     NaN            0       323   158975  ...  Medicare   \n",
       "3  2188-11-22 00:00:00     NaN            1       324   124271  ...  Self Pay   \n",
       "4                  NaN     NaN            0       325   117937  ...   Private   \n",
       "\n",
       "  LANGUAGE       RELIGION MARITAL_STATUS               ETHNICITY  \\\n",
       "0      NaN       CATHOLIC       DIVORCED                   WHITE   \n",
       "1     ENGL       CATHOLIC       DIVORCED                   WHITE   \n",
       "2     ENGL       CATHOLIC       DIVORCED                   WHITE   \n",
       "3     HAIT  NOT SPECIFIED         SINGLE  BLACK/AFRICAN AMERICAN   \n",
       "4      NaN          OTHER            NaN   UNKNOWN/NOT SPECIFIED   \n",
       "\n",
       "             EDREGTIME            EDOUTTIME  \\\n",
       "0  2149-12-17 11:10:00  2149-12-17 21:35:00   \n",
       "1  2155-02-03 17:43:00  2155-02-03 21:26:00   \n",
       "2                  NaN                  NaN   \n",
       "3  2188-11-12 06:56:00  2188-11-12 10:10:00   \n",
       "4  2110-07-27 05:00:00  2110-07-27 07:15:00   \n",
       "\n",
       "                           DIAGNOSIS HOSPITAL_EXPIRE_FLAG HAS_CHARTEVENTS_DATA  \n",
       "0  UNSTABLE ANGINA;ASTHMA;BRONCHITIS                    0                    1  \n",
       "1               GI BLEED/ CHEST PAIN                    0                    1  \n",
       "2            GI BLEEDING\\COLONOSCOPY                    0                    1  \n",
       "3                   PNEUMONIA;R/O TB                    1                    1  \n",
       "4            INTRACRANIAL HEAD BLEED                    0                    1  \n",
       "\n",
       "[5 rows x 26 columns]"
      ],
      "text/html": "<div>\n<style scoped>\n    .dataframe tbody tr th:only-of-type {\n        vertical-align: middle;\n    }\n\n    .dataframe tbody tr th {\n        vertical-align: top;\n    }\n\n    .dataframe thead th {\n        text-align: right;\n    }\n</style>\n<table border=\"1\" class=\"dataframe\">\n  <thead>\n    <tr style=\"text-align: right;\">\n      <th></th>\n      <th>ROW_ID_x</th>\n      <th>SUBJECT_ID</th>\n      <th>GENDER</th>\n      <th>DOB</th>\n      <th>DOD</th>\n      <th>DOD_HOSP</th>\n      <th>DOD_SSN</th>\n      <th>EXPIRE_FLAG</th>\n      <th>ROW_ID_y</th>\n      <th>HADM_ID</th>\n      <th>...</th>\n      <th>INSURANCE</th>\n      <th>LANGUAGE</th>\n      <th>RELIGION</th>\n      <th>MARITAL_STATUS</th>\n      <th>ETHNICITY</th>\n      <th>EDREGTIME</th>\n      <th>EDOUTTIME</th>\n      <th>DIAGNOSIS</th>\n      <th>HOSPITAL_EXPIRE_FLAG</th>\n      <th>HAS_CHARTEVENTS_DATA</th>\n    </tr>\n  </thead>\n  <tbody>\n    <tr>\n      <th>0</th>\n      <td>234</td>\n      <td>249</td>\n      <td>F</td>\n      <td>2075-03-13 00:00:00</td>\n      <td>NaN</td>\n      <td>NaN</td>\n      <td>NaN</td>\n      <td>0</td>\n      <td>321</td>\n      <td>116935</td>\n      <td>...</td>\n      <td>Medicare</td>\n      <td>NaN</td>\n      <td>CATHOLIC</td>\n      <td>DIVORCED</td>\n      <td>WHITE</td>\n      <td>2149-12-17 11:10:00</td>\n      <td>2149-12-17 21:35:00</td>\n      <td>UNSTABLE ANGINA;ASTHMA;BRONCHITIS</td>\n      <td>0</td>\n      <td>1</td>\n    </tr>\n    <tr>\n      <th>1</th>\n      <td>234</td>\n      <td>249</td>\n      <td>F</td>\n      <td>2075-03-13 00:00:00</td>\n      <td>NaN</td>\n      <td>NaN</td>\n      <td>NaN</td>\n      <td>0</td>\n      <td>322</td>\n      <td>149546</td>\n      <td>...</td>\n      <td>Medicare</td>\n      <td>ENGL</td>\n      <td>CATHOLIC</td>\n      <td>DIVORCED</td>\n      <td>WHITE</td>\n      <td>2155-02-03 17:43:00</td>\n      <td>2155-02-03 21:26:00</td>\n      <td>GI BLEED/ CHEST PAIN</td>\n      <td>0</td>\n      <td>1</td>\n    </tr>\n    <tr>\n      <th>2</th>\n      <td>234</td>\n      <td>249</td>\n      <td>F</td>\n      <td>2075-03-13 00:00:00</td>\n      <td>NaN</td>\n      <td>NaN</td>\n      <td>NaN</td>\n      <td>0</td>\n      <td>323</td>\n      <td>158975</td>\n      <td>...</td>\n      <td>Medicare</td>\n      <td>ENGL</td>\n      <td>CATHOLIC</td>\n      <td>DIVORCED</td>\n      <td>WHITE</td>\n      <td>NaN</td>\n      <td>NaN</td>\n      <td>GI BLEEDING\\COLONOSCOPY</td>\n      <td>0</td>\n      <td>1</td>\n    </tr>\n    <tr>\n      <th>3</th>\n      <td>235</td>\n      <td>250</td>\n      <td>F</td>\n      <td>2164-12-27 00:00:00</td>\n      <td>2188-11-22 00:00:00</td>\n      <td>2188-11-22 00:00:00</td>\n      <td>NaN</td>\n      <td>1</td>\n      <td>324</td>\n      <td>124271</td>\n      <td>...</td>\n      <td>Self Pay</td>\n      <td>HAIT</td>\n      <td>NOT SPECIFIED</td>\n      <td>SINGLE</td>\n      <td>BLACK/AFRICAN AMERICAN</td>\n      <td>2188-11-12 06:56:00</td>\n      <td>2188-11-12 10:10:00</td>\n      <td>PNEUMONIA;R/O TB</td>\n      <td>1</td>\n      <td>1</td>\n    </tr>\n    <tr>\n      <th>4</th>\n      <td>236</td>\n      <td>251</td>\n      <td>M</td>\n      <td>2090-03-15 00:00:00</td>\n      <td>NaN</td>\n      <td>NaN</td>\n      <td>NaN</td>\n      <td>0</td>\n      <td>325</td>\n      <td>117937</td>\n      <td>...</td>\n      <td>Private</td>\n      <td>NaN</td>\n      <td>OTHER</td>\n      <td>NaN</td>\n      <td>UNKNOWN/NOT SPECIFIED</td>\n      <td>2110-07-27 05:00:00</td>\n      <td>2110-07-27 07:15:00</td>\n      <td>INTRACRANIAL HEAD BLEED</td>\n      <td>0</td>\n      <td>1</td>\n    </tr>\n  </tbody>\n</table>\n<p>5 rows × 26 columns</p>\n</div>"
     },
     "metadata": {},
     "execution_count": 3
    }
   ],
   "source": [
    "patients_admission = pd.merge(patients,admissions,on='SUBJECT_ID')\n",
    "patients_admission.head()"
   ]
  },
  {
   "cell_type": "code",
   "execution_count": 4,
   "metadata": {},
   "outputs": [
    {
     "output_type": "stream",
     "name": "stdout",
     "text": [
      "<class 'pandas.core.frame.DataFrame'>\nInt64Index: 58976 entries, 0 to 58975\nData columns (total 26 columns):\n #   Column                Non-Null Count  Dtype \n---  ------                --------------  ----- \n 0   ROW_ID_x              58976 non-null  int64 \n 1   SUBJECT_ID            58976 non-null  int64 \n 2   GENDER                58976 non-null  object\n 3   DOB                   58976 non-null  object\n 4   DOD                   22586 non-null  object\n 5   DOD_HOSP              15071 non-null  object\n 6   DOD_SSN               19069 non-null  object\n 7   EXPIRE_FLAG           58976 non-null  int64 \n 8   ROW_ID_y              58976 non-null  int64 \n 9   HADM_ID               58976 non-null  int64 \n 10  ADMITTIME             58976 non-null  object\n 11  DISCHTIME             58976 non-null  object\n 12  DEATHTIME             5854 non-null   object\n 13  ADMISSION_TYPE        58976 non-null  object\n 14  ADMISSION_LOCATION    58976 non-null  object\n 15  DISCHARGE_LOCATION    58976 non-null  object\n 16  INSURANCE             58976 non-null  object\n 17  LANGUAGE              33644 non-null  object\n 18  RELIGION              58518 non-null  object\n 19  MARITAL_STATUS        48848 non-null  object\n 20  ETHNICITY             58976 non-null  object\n 21  EDREGTIME             30877 non-null  object\n 22  EDOUTTIME             30877 non-null  object\n 23  DIAGNOSIS             58951 non-null  object\n 24  HOSPITAL_EXPIRE_FLAG  58976 non-null  int64 \n 25  HAS_CHARTEVENTS_DATA  58976 non-null  int64 \ndtypes: int64(7), object(19)\nmemory usage: 12.1+ MB\n"
     ]
    }
   ],
   "source": [
    "patients_admission.info()"
   ]
  },
  {
   "cell_type": "code",
   "execution_count": null,
   "metadata": {},
   "outputs": [],
   "source": []
  }
 ]
}