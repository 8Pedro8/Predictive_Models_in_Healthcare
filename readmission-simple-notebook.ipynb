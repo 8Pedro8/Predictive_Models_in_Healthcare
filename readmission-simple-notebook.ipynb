{
 "metadata": {
  "language_info": {
   "codemirror_mode": {
    "name": "ipython",
    "version": 3
   },
   "file_extension": ".py",
   "mimetype": "text/x-python",
   "name": "python",
   "nbconvert_exporter": "python",
   "pygments_lexer": "ipython3",
   "version": "3.8.8"
  },
  "orig_nbformat": 4,
  "kernelspec": {
   "name": "python3",
   "display_name": "Python 3.8.8 64-bit ('base': conda)"
  },
  "interpreter": {
   "hash": "ca91aee8edd15b37e2ac91f1bb15239ffec5b3531be41daeb3cd5ccbcec938a2"
  }
 },
 "nbformat": 4,
 "nbformat_minor": 2,
 "cells": [
  {
   "cell_type": "code",
   "execution_count": 1,
   "metadata": {},
   "outputs": [],
   "source": [
    "import pandas as pd\n",
    "import numpy as np\n",
    "import matplotlib.pyplot as plt"
   ]
  },
  {
   "cell_type": "code",
   "execution_count": 2,
   "metadata": {},
   "outputs": [
    {
     "output_type": "stream",
     "name": "stderr",
     "text": [
      "C:\\Users\\nicod\\anaconda3\\lib\\site-packages\\IPython\\core\\interactiveshell.py:3165: DtypeWarning: Columns (3,4,5,6,7,11,12) have mixed types.Specify dtype option on import or set low_memory=False.\n  has_raised = await self.run_ast_nodes(code_ast.body, cell_name,\n"
     ]
    },
    {
     "output_type": "execute_result",
     "data": {
      "text/plain": [
       "   Unnamed: 0  subject_id   hadm_id            admittime deathtime  \\\n",
       "0           0  14679932.0  21038362  2139-09-26 14:16:00       NaN   \n",
       "1           1  15585972.0  24941086  2123-10-07 23:56:00       NaN   \n",
       "2           2  15078341.0  23272159  2122-08-28 08:48:00       NaN   \n",
       "3           3  17301855.0  29732723  2140-06-06 14:23:00       NaN   \n",
       "4           4  17991012.0  24298836  2181-07-10 20:28:00       NaN   \n",
       "\n",
       "  admission_type insurance               ethnicity       los  \\\n",
       "0       ELECTIVE     Other           OTHER/UNKNOWN  1.884722   \n",
       "1       ELECTIVE     Other                   WHITE  4.476389   \n",
       "2       ELECTIVE     Other  BLACK/AFRICAN AMERICAN  2.155556   \n",
       "3       ELECTIVE     Other                   WHITE  2.001389   \n",
       "4       ELECTIVE     Other                   WHITE  1.806250   \n",
       "\n",
       "   died_at_the_hospital  ...  muscular neoplasms nervous  pregnancy  prenatal  \\\n",
       "0                   0.0  ...       0.0       0.0     0.0        0.0       0.0   \n",
       "1                   0.0  ...       0.0       0.0     0.0        0.0       0.0   \n",
       "2                   0.0  ...       0.0       0.0     0.0        0.0       0.0   \n",
       "3                   0.0  ...       0.0       0.0     0.0        0.0       1.0   \n",
       "4                   0.0  ...       0.0       0.0     0.0        0.0       0.0   \n",
       "\n",
       "   respiratory  skin  Neuro Intermediate  \\\n",
       "0          0.0   0.0                 0.0   \n",
       "1          0.0   0.0                 0.0   \n",
       "2          0.0   0.0                 0.0   \n",
       "3          0.0   0.0                 0.0   \n",
       "4          0.0   0.0                 0.0   \n",
       "\n",
       "   Neuro Surgical Intensive Care Unit (Neuro SICU)  Other-ICU  \n",
       "0                                              0.0        0.0  \n",
       "1                                              0.0        0.0  \n",
       "2                                              0.0        0.0  \n",
       "3                                              0.0        0.0  \n",
       "4                                              0.0        0.0  \n",
       "\n",
       "[5 rows x 33 columns]"
      ],
      "text/html": "<div>\n<style scoped>\n    .dataframe tbody tr th:only-of-type {\n        vertical-align: middle;\n    }\n\n    .dataframe tbody tr th {\n        vertical-align: top;\n    }\n\n    .dataframe thead th {\n        text-align: right;\n    }\n</style>\n<table border=\"1\" class=\"dataframe\">\n  <thead>\n    <tr style=\"text-align: right;\">\n      <th></th>\n      <th>Unnamed: 0</th>\n      <th>subject_id</th>\n      <th>hadm_id</th>\n      <th>admittime</th>\n      <th>deathtime</th>\n      <th>admission_type</th>\n      <th>insurance</th>\n      <th>ethnicity</th>\n      <th>los</th>\n      <th>died_at_the_hospital</th>\n      <th>...</th>\n      <th>muscular</th>\n      <th>neoplasms</th>\n      <th>nervous</th>\n      <th>pregnancy</th>\n      <th>prenatal</th>\n      <th>respiratory</th>\n      <th>skin</th>\n      <th>Neuro Intermediate</th>\n      <th>Neuro Surgical Intensive Care Unit (Neuro SICU)</th>\n      <th>Other-ICU</th>\n    </tr>\n  </thead>\n  <tbody>\n    <tr>\n      <th>0</th>\n      <td>0</td>\n      <td>14679932.0</td>\n      <td>21038362</td>\n      <td>2139-09-26 14:16:00</td>\n      <td>NaN</td>\n      <td>ELECTIVE</td>\n      <td>Other</td>\n      <td>OTHER/UNKNOWN</td>\n      <td>1.884722</td>\n      <td>0.0</td>\n      <td>...</td>\n      <td>0.0</td>\n      <td>0.0</td>\n      <td>0.0</td>\n      <td>0.0</td>\n      <td>0.0</td>\n      <td>0.0</td>\n      <td>0.0</td>\n      <td>0.0</td>\n      <td>0.0</td>\n      <td>0.0</td>\n    </tr>\n    <tr>\n      <th>1</th>\n      <td>1</td>\n      <td>15585972.0</td>\n      <td>24941086</td>\n      <td>2123-10-07 23:56:00</td>\n      <td>NaN</td>\n      <td>ELECTIVE</td>\n      <td>Other</td>\n      <td>WHITE</td>\n      <td>4.476389</td>\n      <td>0.0</td>\n      <td>...</td>\n      <td>0.0</td>\n      <td>0.0</td>\n      <td>0.0</td>\n      <td>0.0</td>\n      <td>0.0</td>\n      <td>0.0</td>\n      <td>0.0</td>\n      <td>0.0</td>\n      <td>0.0</td>\n      <td>0.0</td>\n    </tr>\n    <tr>\n      <th>2</th>\n      <td>2</td>\n      <td>15078341.0</td>\n      <td>23272159</td>\n      <td>2122-08-28 08:48:00</td>\n      <td>NaN</td>\n      <td>ELECTIVE</td>\n      <td>Other</td>\n      <td>BLACK/AFRICAN AMERICAN</td>\n      <td>2.155556</td>\n      <td>0.0</td>\n      <td>...</td>\n      <td>0.0</td>\n      <td>0.0</td>\n      <td>0.0</td>\n      <td>0.0</td>\n      <td>0.0</td>\n      <td>0.0</td>\n      <td>0.0</td>\n      <td>0.0</td>\n      <td>0.0</td>\n      <td>0.0</td>\n    </tr>\n    <tr>\n      <th>3</th>\n      <td>3</td>\n      <td>17301855.0</td>\n      <td>29732723</td>\n      <td>2140-06-06 14:23:00</td>\n      <td>NaN</td>\n      <td>ELECTIVE</td>\n      <td>Other</td>\n      <td>WHITE</td>\n      <td>2.001389</td>\n      <td>0.0</td>\n      <td>...</td>\n      <td>0.0</td>\n      <td>0.0</td>\n      <td>0.0</td>\n      <td>0.0</td>\n      <td>1.0</td>\n      <td>0.0</td>\n      <td>0.0</td>\n      <td>0.0</td>\n      <td>0.0</td>\n      <td>0.0</td>\n    </tr>\n    <tr>\n      <th>4</th>\n      <td>4</td>\n      <td>17991012.0</td>\n      <td>24298836</td>\n      <td>2181-07-10 20:28:00</td>\n      <td>NaN</td>\n      <td>ELECTIVE</td>\n      <td>Other</td>\n      <td>WHITE</td>\n      <td>1.806250</td>\n      <td>0.0</td>\n      <td>...</td>\n      <td>0.0</td>\n      <td>0.0</td>\n      <td>0.0</td>\n      <td>0.0</td>\n      <td>0.0</td>\n      <td>0.0</td>\n      <td>0.0</td>\n      <td>0.0</td>\n      <td>0.0</td>\n      <td>0.0</td>\n    </tr>\n  </tbody>\n</table>\n<p>5 rows × 33 columns</p>\n</div>"
     },
     "metadata": {},
     "execution_count": 2
    }
   ],
   "source": [
    "df_preprocessed = pd.read_csv('admits_patients_diag_icu_PROCESSED.csv')\n",
    "df_preprocessed.head()"
   ]
  },
  {
   "cell_type": "code",
   "execution_count": 3,
   "metadata": {},
   "outputs": [
    {
     "output_type": "stream",
     "name": "stdout",
     "text": [
      "<class 'pandas.core.frame.DataFrame'>\nRangeIndex: 362995 entries, 0 to 362994\nData columns (total 33 columns):\n #   Column                                           Non-Null Count   Dtype  \n---  ------                                           --------------   -----  \n 0   Unnamed: 0                                       362995 non-null  int64  \n 1   subject_id                                       335257 non-null  float64\n 2   hadm_id                                          362995 non-null  int64  \n 3   admittime                                        335257 non-null  object \n 4   deathtime                                        5605 non-null    object \n 5   admission_type                                   335257 non-null  object \n 6   insurance                                        335257 non-null  object \n 7   ethnicity                                        335257 non-null  object \n 8   los                                              335257 non-null  float64\n 9   died_at_the_hospital                             335257 non-null  float64\n 10  gender                                           335257 non-null  float64\n 11  anchor_age                                       335257 non-null  object \n 12  dod                                              24581 non-null   object \n 13  blood                                            335257 non-null  float64\n 14  circulatory                                      335257 non-null  float64\n 15  congenital                                       335257 non-null  float64\n 16  digestive                                        335257 non-null  float64\n 17  endocrine                                        335257 non-null  float64\n 18  genitourinary                                    335257 non-null  float64\n 19  infectious                                       335257 non-null  float64\n 20  injury                                           335257 non-null  float64\n 21  mental                                           335257 non-null  float64\n 22  misc                                             335257 non-null  float64\n 23  muscular                                         335257 non-null  float64\n 24  neoplasms                                        335257 non-null  float64\n 25  nervous                                          335257 non-null  float64\n 26  pregnancy                                        335257 non-null  float64\n 27  prenatal                                         335257 non-null  float64\n 28  respiratory                                      335257 non-null  float64\n 29  skin                                             335257 non-null  float64\n 30  Neuro Intermediate                               362995 non-null  float64\n 31  Neuro Surgical Intensive Care Unit (Neuro SICU)  362995 non-null  float64\n 32  Other-ICU                                        362995 non-null  float64\ndtypes: float64(24), int64(2), object(7)\nmemory usage: 91.4+ MB\n"
     ]
    }
   ],
   "source": [
    "df_preprocessed.info()"
   ]
  },
  {
   "cell_type": "code",
   "execution_count": 4,
   "metadata": {},
   "outputs": [
    {
     "output_type": "stream",
     "name": "stdout",
     "text": [
      "<class 'pandas.core.frame.DataFrame'>\nInt64Index: 335257 entries, 0 to 335256\nData columns (total 33 columns):\n #   Column                                           Non-Null Count   Dtype  \n---  ------                                           --------------   -----  \n 0   Unnamed: 0                                       335257 non-null  int64  \n 1   subject_id                                       335257 non-null  float64\n 2   hadm_id                                          335257 non-null  int64  \n 3   admittime                                        335257 non-null  object \n 4   deathtime                                        5605 non-null    object \n 5   admission_type                                   335257 non-null  object \n 6   insurance                                        335257 non-null  object \n 7   ethnicity                                        335257 non-null  object \n 8   los                                              335257 non-null  float64\n 9   died_at_the_hospital                             335257 non-null  float64\n 10  gender                                           335257 non-null  float64\n 11  anchor_age                                       335257 non-null  object \n 12  dod                                              24581 non-null   object \n 13  blood                                            335257 non-null  float64\n 14  circulatory                                      335257 non-null  float64\n 15  congenital                                       335257 non-null  float64\n 16  digestive                                        335257 non-null  float64\n 17  endocrine                                        335257 non-null  float64\n 18  genitourinary                                    335257 non-null  float64\n 19  infectious                                       335257 non-null  float64\n 20  injury                                           335257 non-null  float64\n 21  mental                                           335257 non-null  float64\n 22  misc                                             335257 non-null  float64\n 23  muscular                                         335257 non-null  float64\n 24  neoplasms                                        335257 non-null  float64\n 25  nervous                                          335257 non-null  float64\n 26  pregnancy                                        335257 non-null  float64\n 27  prenatal                                         335257 non-null  float64\n 28  respiratory                                      335257 non-null  float64\n 29  skin                                             335257 non-null  float64\n 30  Neuro Intermediate                               335257 non-null  float64\n 31  Neuro Surgical Intensive Care Unit (Neuro SICU)  335257 non-null  float64\n 32  Other-ICU                                        335257 non-null  float64\ndtypes: float64(24), int64(2), object(7)\nmemory usage: 87.0+ MB\n"
     ]
    }
   ],
   "source": [
    "# Remove LOS with negative number, likely entry error or died before the stay in hospital\n",
    "df_preprocessed = df_preprocessed[df_preprocessed['los'] > 0]\n",
    "df_preprocessed.info()"
   ]
  },
  {
   "cell_type": "code",
   "execution_count": 6,
   "metadata": {},
   "outputs": [
    {
     "output_type": "stream",
     "name": "stdout",
     "text": [
      "Number of missing date admissions: 0\n"
     ]
    },
    {
     "output_type": "error",
     "ename": "AttributeError",
     "evalue": "'DataFrame' object has no attribute 'dischtime'",
     "traceback": [
      "\u001b[1;31m---------------------------------------------------------------------------\u001b[0m",
      "\u001b[1;31mAttributeError\u001b[0m                            Traceback (most recent call last)",
      "\u001b[1;32m<ipython-input-6-57869f86f761>\u001b[0m in \u001b[0;36m<module>\u001b[1;34m\u001b[0m\n\u001b[0;32m      1\u001b[0m \u001b[1;31m# check to see if there are any missing dates\u001b[0m\u001b[1;33m\u001b[0m\u001b[1;33m\u001b[0m\u001b[1;33m\u001b[0m\u001b[0m\n\u001b[0;32m      2\u001b[0m \u001b[0mprint\u001b[0m\u001b[1;33m(\u001b[0m\u001b[1;34m'Number of missing date admissions:'\u001b[0m\u001b[1;33m,\u001b[0m \u001b[0mdf_preprocessed\u001b[0m\u001b[1;33m.\u001b[0m\u001b[0madmittime\u001b[0m\u001b[1;33m.\u001b[0m\u001b[0misnull\u001b[0m\u001b[1;33m(\u001b[0m\u001b[1;33m)\u001b[0m\u001b[1;33m.\u001b[0m\u001b[0msum\u001b[0m\u001b[1;33m(\u001b[0m\u001b[1;33m)\u001b[0m\u001b[1;33m)\u001b[0m\u001b[1;33m\u001b[0m\u001b[1;33m\u001b[0m\u001b[0m\n\u001b[1;32m----> 3\u001b[1;33m \u001b[0mprint\u001b[0m\u001b[1;33m(\u001b[0m\u001b[1;34m'Number of missing date discharges:'\u001b[0m\u001b[1;33m,\u001b[0m \u001b[0mdf_preprocessed\u001b[0m\u001b[1;33m.\u001b[0m\u001b[0mdischtime\u001b[0m\u001b[1;33m.\u001b[0m\u001b[0misnull\u001b[0m\u001b[1;33m(\u001b[0m\u001b[1;33m)\u001b[0m\u001b[1;33m.\u001b[0m\u001b[0msum\u001b[0m\u001b[1;33m(\u001b[0m\u001b[1;33m)\u001b[0m\u001b[1;33m)\u001b[0m\u001b[1;33m\u001b[0m\u001b[1;33m\u001b[0m\u001b[0m\n\u001b[0m",
      "\u001b[1;32m~\\anaconda3\\lib\\site-packages\\pandas\\core\\generic.py\u001b[0m in \u001b[0;36m__getattr__\u001b[1;34m(self, name)\u001b[0m\n\u001b[0;32m   5463\u001b[0m             \u001b[1;32mif\u001b[0m \u001b[0mself\u001b[0m\u001b[1;33m.\u001b[0m\u001b[0m_info_axis\u001b[0m\u001b[1;33m.\u001b[0m\u001b[0m_can_hold_identifiers_and_holds_name\u001b[0m\u001b[1;33m(\u001b[0m\u001b[0mname\u001b[0m\u001b[1;33m)\u001b[0m\u001b[1;33m:\u001b[0m\u001b[1;33m\u001b[0m\u001b[1;33m\u001b[0m\u001b[0m\n\u001b[0;32m   5464\u001b[0m                 \u001b[1;32mreturn\u001b[0m \u001b[0mself\u001b[0m\u001b[1;33m[\u001b[0m\u001b[0mname\u001b[0m\u001b[1;33m]\u001b[0m\u001b[1;33m\u001b[0m\u001b[1;33m\u001b[0m\u001b[0m\n\u001b[1;32m-> 5465\u001b[1;33m             \u001b[1;32mreturn\u001b[0m \u001b[0mobject\u001b[0m\u001b[1;33m.\u001b[0m\u001b[0m__getattribute__\u001b[0m\u001b[1;33m(\u001b[0m\u001b[0mself\u001b[0m\u001b[1;33m,\u001b[0m \u001b[0mname\u001b[0m\u001b[1;33m)\u001b[0m\u001b[1;33m\u001b[0m\u001b[1;33m\u001b[0m\u001b[0m\n\u001b[0m\u001b[0;32m   5466\u001b[0m \u001b[1;33m\u001b[0m\u001b[0m\n\u001b[0;32m   5467\u001b[0m     \u001b[1;32mdef\u001b[0m \u001b[0m__setattr__\u001b[0m\u001b[1;33m(\u001b[0m\u001b[0mself\u001b[0m\u001b[1;33m,\u001b[0m \u001b[0mname\u001b[0m\u001b[1;33m:\u001b[0m \u001b[0mstr\u001b[0m\u001b[1;33m,\u001b[0m \u001b[0mvalue\u001b[0m\u001b[1;33m)\u001b[0m \u001b[1;33m->\u001b[0m \u001b[1;32mNone\u001b[0m\u001b[1;33m:\u001b[0m\u001b[1;33m\u001b[0m\u001b[1;33m\u001b[0m\u001b[0m\n",
      "\u001b[1;31mAttributeError\u001b[0m: 'DataFrame' object has no attribute 'dischtime'"
     ]
    }
   ],
   "source": [
    "# check to see if there are any missing dates\n",
    "print('Number of missing date admissions:', df_preprocessed.admittime.isnull().sum())\n",
    "print('Number of missing date discharges:', df_preprocessed.dischtime.isnull().sum())"
   ]
  },
  {
   "cell_type": "code",
   "execution_count": null,
   "metadata": {},
   "outputs": [],
   "source": []
  }
 ]
}