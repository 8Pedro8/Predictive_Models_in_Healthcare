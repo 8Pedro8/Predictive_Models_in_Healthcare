{
 "metadata": {
  "language_info": {
   "codemirror_mode": {
    "name": "ipython",
    "version": 3
   },
   "file_extension": ".py",
   "mimetype": "text/x-python",
   "name": "python",
   "nbconvert_exporter": "python",
   "pygments_lexer": "ipython3",
   "version": "3.8.8"
  },
  "orig_nbformat": 4,
  "kernelspec": {
   "name": "python3",
   "display_name": "Python 3.8.8 64-bit ('base': conda)"
  },
  "interpreter": {
   "hash": "ca91aee8edd15b37e2ac91f1bb15239ffec5b3531be41daeb3cd5ccbcec938a2"
  }
 },
 "nbformat": 4,
 "nbformat_minor": 2,
 "cells": [
  {
   "cell_type": "code",
   "execution_count": 1,
   "metadata": {},
   "outputs": [],
   "source": [
    "import pandas as pd\n",
    "import numpy as np\n",
    "import matplotlib.pyplot as plt\n",
    "import seaborn as sns\n",
    "from sklearn.model_selection import train_test_split\n",
    "from sklearn.metrics import r2_score, mean_squared_error\n",
    "from sklearn.preprocessing import MinMaxScaler\n",
    "from sklearn.neighbors import KNeighborsRegressor\n",
    "from sklearn.linear_model import LinearRegression\n",
    "from sklearn.svm import SVR\n",
    "from sklearn.ensemble import RandomForestRegressor\n",
    "from sklearn.tree import DecisionTreeRegressor\n",
    "from scipy.stats import pearsonr\n",
    "from sklearn.ensemble import GradientBoostingRegressor\n",
    "from sklearn.linear_model import SGDRegressor\n",
    "import statsmodels.api as sm\n",
    "from sklearn.model_selection import GridSearchCV"
   ]
  },
  {
   "cell_type": "code",
   "execution_count": 2,
   "metadata": {},
   "outputs": [
    {
     "output_type": "execute_result",
     "data": {
      "text/plain": [
       "   ROW_ID  SUBJECT_ID  HADM_ID  ITEMID            CHARTTIME VALUE  VALUENUM  \\\n",
       "0     281           3      NaN   50820  2101-10-12 16:07:00  7.39      7.39   \n",
       "1     282           3      NaN   50800  2101-10-12 18:17:00   ART       NaN   \n",
       "2     283           3      NaN   50802  2101-10-12 18:17:00    -1     -1.00   \n",
       "3     284           3      NaN   50804  2101-10-12 18:17:00    22     22.00   \n",
       "4     285           3      NaN   50808  2101-10-12 18:17:00  0.93      0.93   \n",
       "\n",
       "  VALUEUOM      FLAG  \n",
       "0    units       NaN  \n",
       "1      NaN       NaN  \n",
       "2    mEq/L       NaN  \n",
       "3    mEq/L       NaN  \n",
       "4   mmol/L  abnormal  "
      ],
      "text/html": "<div>\n<style scoped>\n    .dataframe tbody tr th:only-of-type {\n        vertical-align: middle;\n    }\n\n    .dataframe tbody tr th {\n        vertical-align: top;\n    }\n\n    .dataframe thead th {\n        text-align: right;\n    }\n</style>\n<table border=\"1\" class=\"dataframe\">\n  <thead>\n    <tr style=\"text-align: right;\">\n      <th></th>\n      <th>ROW_ID</th>\n      <th>SUBJECT_ID</th>\n      <th>HADM_ID</th>\n      <th>ITEMID</th>\n      <th>CHARTTIME</th>\n      <th>VALUE</th>\n      <th>VALUENUM</th>\n      <th>VALUEUOM</th>\n      <th>FLAG</th>\n    </tr>\n  </thead>\n  <tbody>\n    <tr>\n      <th>0</th>\n      <td>281</td>\n      <td>3</td>\n      <td>NaN</td>\n      <td>50820</td>\n      <td>2101-10-12 16:07:00</td>\n      <td>7.39</td>\n      <td>7.39</td>\n      <td>units</td>\n      <td>NaN</td>\n    </tr>\n    <tr>\n      <th>1</th>\n      <td>282</td>\n      <td>3</td>\n      <td>NaN</td>\n      <td>50800</td>\n      <td>2101-10-12 18:17:00</td>\n      <td>ART</td>\n      <td>NaN</td>\n      <td>NaN</td>\n      <td>NaN</td>\n    </tr>\n    <tr>\n      <th>2</th>\n      <td>283</td>\n      <td>3</td>\n      <td>NaN</td>\n      <td>50802</td>\n      <td>2101-10-12 18:17:00</td>\n      <td>-1</td>\n      <td>-1.00</td>\n      <td>mEq/L</td>\n      <td>NaN</td>\n    </tr>\n    <tr>\n      <th>3</th>\n      <td>284</td>\n      <td>3</td>\n      <td>NaN</td>\n      <td>50804</td>\n      <td>2101-10-12 18:17:00</td>\n      <td>22</td>\n      <td>22.00</td>\n      <td>mEq/L</td>\n      <td>NaN</td>\n    </tr>\n    <tr>\n      <th>4</th>\n      <td>285</td>\n      <td>3</td>\n      <td>NaN</td>\n      <td>50808</td>\n      <td>2101-10-12 18:17:00</td>\n      <td>0.93</td>\n      <td>0.93</td>\n      <td>mmol/L</td>\n      <td>abnormal</td>\n    </tr>\n  </tbody>\n</table>\n</div>"
     },
     "metadata": {},
     "execution_count": 2
    }
   ],
   "source": [
    "mimic3_path = '../../mimic-iii-clinical-database-1.4/'\n",
    "\n",
    "# read labevents table\n",
    "def read_labevents_table(mimic3_path):\n",
    "    labevents = pd.read_csv(mimic3_path + 'LABEVENTS.csv')\n",
    "    return labevents\n",
    "\n",
    "labevents = read_labevents_table(mimic3_path)\n",
    "labevents.head()"
   ]
  }
 ]
}